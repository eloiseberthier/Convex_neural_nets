{
 "cells": [
  {
   "cell_type": "code",
   "execution_count": 45,
   "metadata": {},
   "outputs": [],
   "source": [
    "import numpy as np\n",
    "import matplotlib.pyplot as plt\n",
    "np.random.seed(1)\n",
    "import tqdm"
   ]
  },
  {
   "cell_type": "markdown",
   "metadata": {},
   "source": [
    "Sigmoid neurons"
   ]
  },
  {
   "cell_type": "code",
   "execution_count": 46,
   "metadata": {},
   "outputs": [],
   "source": [
    "d = 100 # dimension of space\n",
    "M = 20 # number of neurons for generation"
   ]
  },
  {
   "cell_type": "code",
   "execution_count": 47,
   "metadata": {},
   "outputs": [],
   "source": [
    "def sigma(x):\n",
    "    return (1. / (1. + np.exp(-x)))"
   ]
  },
  {
   "cell_type": "code",
   "execution_count": 48,
   "metadata": {},
   "outputs": [],
   "source": [
    "class Neuron:\n",
    "    def __init__(self):\n",
    "        self.a = np.random.normal(loc = 2., scale = 10.)\n",
    "        self.w = np.random.normal(size = d)\n",
    "        self.b = np.random.normal()\n",
    "    def set_weights(self, a, w, b):\n",
    "        self.a = a\n",
    "        self.w = w\n",
    "        self.b = b\n",
    "    def forward(self, x):\n",
    "        return self.a * sigma(self.w.dot(x) + self.b)"
   ]
  },
  {
   "cell_type": "code",
   "execution_count": 49,
   "metadata": {},
   "outputs": [],
   "source": [
    "class Network:\n",
    "    def __init__(self, width):\n",
    "        self.width = width\n",
    "        self.neurons = [Neuron() for i in range(width)]\n",
    "    def zero_out(self):\n",
    "        for nr in self.neurons:\n",
    "            nr.set_weights(0., nr.w, nr.b)\n",
    "    def zero_bias(self):\n",
    "        for nr in self.neurons:\n",
    "            nr.set_weights(nr.a, nr.w, 0)\n",
    "    def output(self, x):\n",
    "        return np.mean([n.forward(x) for n in self.neurons])\n",
    "    def loss(self, x, y):\n",
    "        return .5*(self.output(x) - y)**2\n",
    "    def grad(self, x, y):\n",
    "        d = (self.output(x) - y)\n",
    "        s = np.array([sigma(n.w.dot(x) + n.b) for n in self.neurons])\n",
    "        ga = 1./self.width * d * s\n",
    "        gb = 1./self.width * d * np.array([self.neurons[i].a*s[i]*(1-s[i]) for i in range(self.width)])\n",
    "        gw = np.array([gb[i] * x for i in range(self.width)]) # shape m * d\n",
    "        return ga, gw, gb\n",
    "    def step(self, x, y, tau):\n",
    "        ga, gw, gb = self.grad(x, y)\n",
    "        for i in range(self.width):\n",
    "            nr = self.neurons[i]\n",
    "            a_new = nr.a - tau * ga[i]\n",
    "            w_new = nr.w - tau * gw[i]\n",
    "            b_new = nr.b - tau * gb[i]\n",
    "            nr.set_weights(a_new, w_new, b_new)\n",
    "    def batch_step(self, X, Y, tau):\n",
    "        ba = X.shape[0]\n",
    "        Ga, Gw, Gb = np.zeros((ba, self.width)), np.zeros((ba, self.width, d)), np.zeros((ba, self.width))\n",
    "        for i in range(ba):\n",
    "            Ga[i], Gw[i], Gb[i] = self.grad(X[i], Y[i])\n",
    "        ga, gw, gb = Ga.sum(axis = 0), Gw.sum(axis = 0), Gb.sum(axis = 0)\n",
    "        for i in range(self.width):\n",
    "            nr = self.neurons[i]\n",
    "            a_new = nr.a - tau * ga[i]\n",
    "            w_new = nr.w - tau * gw[i]\n",
    "            b_new = nr.b - tau * gb[i]\n",
    "            nr.set_weights(a_new, w_new, b_new)\n",
    "    def sgd_train(self, X, Y, tau, epochs, batch, disp = True):\n",
    "        for e in range(epochs):\n",
    "            pm = np.random.permutation(X.shape[0])\n",
    "            X = np.array([X[pm[i]] for i in range(X.shape[0])])\n",
    "            Y = np.array([Y[pm[i]] for i in range(Y.shape[0])])\n",
    "            if batch > 1:\n",
    "                nbatch = X.shape[0]//batch\n",
    "                subX = np.split(X, nbatch)\n",
    "                subY = np.split(Y, nbatch)\n",
    "                for s in range(len(subX)):\n",
    "                    self.batch_step(subX[s], subY[s], tau)\n",
    "            else:\n",
    "                for i in range(X.shape[0]):\n",
    "                    self.step(X[i], Y[i], tau)\n",
    "            loss = self.test(X, Y)\n",
    "            if disp:\n",
    "                print('epoch '+str(e)+' : '+str(loss))\n",
    "        return loss\n",
    "    def test(self, X_t, Y_t):\n",
    "        ts = X_t.shape[0]\n",
    "        return np.mean([self.loss(X_t[i], Y_t[i]) for i in range(ts)])\n",
    "    def gen_sample(self, R, s = 1):\n",
    "        if s==1:\n",
    "            X = np.random.normal(size = d)\n",
    "            # see one which one it should be\n",
    "            #X = R * X / np.linalg.norm(X, 2)\n",
    "            X = R * X / np.sqrt(1. + np.linalg.norm(X, 2)**2)\n",
    "            Y = self.output(X)\n",
    "            return X, Y\n",
    "        else:\n",
    "            X = np.random.normal(size = (s, d))\n",
    "            Y = np.zeros(s)\n",
    "            for i in range(s):\n",
    "                # see one which one it should be\n",
    "                X[i] = R * X[i] / np.sqrt(1. + np.linalg.norm(X[i], 2)**2)\n",
    "                #X[i] = R* X[i] / np.linalg.norm(X[i], 2)\n",
    "                Y[i] = self.output(X[i])\n",
    "            return X, Y\n",
    "    def give_weights(self):\n",
    "        la, lw, lb = np.zeros(self.width), np.zeros((self.width, d)), np.zeros(self.width)\n",
    "        for i in range(self.width):\n",
    "            nr = self.neurons[i]\n",
    "            la[i] = nr.a\n",
    "            lw[i] = nr.w\n",
    "            lb[i] = nr.b\n",
    "        return la, lw, lb\n",
    "    def display_weights(self, fig, ax, scatp = None, scatn = None, true_w = None, color='b'):\n",
    "        assert d==2, 'must be in dimension 2'\n",
    "        #ax.cla()\n",
    "        ax.set_xlim((-3, 3))\n",
    "        ax.set_ylim((-3, 3))\n",
    "        la, lw, _ = self.give_weights()\n",
    "        xp, yp, sp, xn, yn, sn = [],[],[],[],[],[]\n",
    "        la = la / np.linalg.norm(la, 2)\n",
    "        for k in range(self.width):\n",
    "            if la[k] >=0:\n",
    "                xp.append(lw[k, 0])\n",
    "                yp.append(lw[k, 1])\n",
    "                sp.append(500 * la[k])\n",
    "            else:\n",
    "                xn.append(lw[k, 0])\n",
    "                yn.append(lw[k, 1])\n",
    "                sn.append(-500 * la[k])\n",
    "                \n",
    "        if scatp is None:\n",
    "            pos = ax.scatter(xp, yp, s = sp, color='r')\n",
    "        else:\n",
    "            scatp.set_sizes(30*sp)\n",
    "            scatp.set_offsets(np.array([xp, yp]).T)\n",
    "            trace = ax.scatter(xp, yp, s = 5., color='grey', alpha = 0.4)\n",
    "            \n",
    "        if scatn is None:\n",
    "            neg = ax.scatter(xn, yn, s = sn, color='b')\n",
    "        else:\n",
    "            scatn.set_sizes(30*sn)\n",
    "            scatn.set_offsets(np.array([xn, yn]).T)\n",
    "            trace = ax.scatter(xn, yn, s = 5., color='grey', alpha = 0.4)\n",
    "        \n",
    "        if true_w is not None:\n",
    "            tla, tlw, _ = true_w\n",
    "            tx, ty = np.zeros(tla.shape[0]), np.zeros(tla.shape[0])\n",
    "            for k in range(tla.shape[0]):\n",
    "                tx[k] = tlw[k, 0]\n",
    "                ty[k] = tlw[k, 1]\n",
    "                u = np.linspace(-3, 3., 10)\n",
    "                v = ty[k]/tx[k] * u\n",
    "                ax.plot(u, v, color = 'k')\n",
    "        \n",
    "        if scatp is None and scatn is None:\n",
    "            fig.canvas.draw()\n",
    "        #del pos\n",
    "        #del neg\n",
    "        return xp, yp, xn, yn"
   ]
  },
  {
   "cell_type": "code",
   "execution_count": null,
   "metadata": {},
   "outputs": [],
   "source": [
    "#fig, ax = plt.subplots(figsize=(10, 6))\n",
    "\n",
    "gen_net = Network(M)\n",
    "\n",
    "true_w = gen_net.give_weights()\n",
    "print(true_w)\n",
    "#xp, yp, xn, yn = gen_net.display_weights(fig, ax, color='g', true_w = true_w)\n",
    "#ax.scatter(xp, yp, s = 10., color='r')\n",
    "#ax.scatter(xn, yn, s = 10., color='b')"
   ]
  },
  {
   "cell_type": "markdown",
   "metadata": {},
   "source": [
    "Initialize new network with first parameter 0 and others normal."
   ]
  },
  {
   "cell_type": "code",
   "execution_count": 98,
   "metadata": {},
   "outputs": [],
   "source": [
    "net = Network(50)\n",
    "net.zero_out()"
   ]
  },
  {
   "cell_type": "markdown",
   "metadata": {},
   "source": [
    "Data on the sphere"
   ]
  },
  {
   "cell_type": "code",
   "execution_count": 99,
   "metadata": {},
   "outputs": [],
   "source": [
    "#X, Y = gen_net.gen_sample(R = 10, s = 10000)"
   ]
  },
  {
   "cell_type": "markdown",
   "metadata": {},
   "source": [
    "Train it using SGD"
   ]
  },
  {
   "cell_type": "code",
   "execution_count": 100,
   "metadata": {
    "scrolled": true
   },
   "outputs": [
    {
     "name": "stdout",
     "output_type": "stream",
     "text": [
      "epoch 0 : 0.79204976997879\n",
      "epoch 0 : 0.7083960174584295\n",
      "epoch 0 : 0.7070588502897689\n",
      "epoch 0 : 0.7668215772777983\n",
      "epoch 0 : 0.7114081540182945\n",
      "epoch 0 : 0.6667247240713939\n",
      "epoch 0 : 0.6798534145268419\n",
      "epoch 0 : 0.6667991424815793\n",
      "epoch 0 : 0.6234455843449598\n",
      "epoch 0 : 0.6749723453658824\n",
      "epoch 0 : 0.588264371529535\n",
      "epoch 0 : 0.5899467546988877\n",
      "epoch 0 : 0.6341572348165214\n",
      "epoch 0 : 0.5683457711340724\n",
      "epoch 0 : 0.5325604839768537\n",
      "epoch 0 : 0.5884197985618762\n",
      "epoch 0 : 0.4927789857162444\n",
      "epoch 0 : 0.5360539528419078\n",
      "epoch 0 : 0.506358988988432\n",
      "epoch 0 : 0.5099317045605976\n",
      "epoch 0 : 0.4387700149143451\n",
      "epoch 0 : 0.44206499377046315\n",
      "epoch 0 : 0.45881971552249684\n",
      "epoch 0 : 0.41535355478753205\n",
      "epoch 0 : 0.42231640093930717\n",
      "epoch 0 : 0.4060663535035882\n",
      "epoch 0 : 0.36169891834768336\n",
      "epoch 0 : 0.3311885188146192\n",
      "epoch 0 : 0.3227942187441779\n",
      "epoch 0 : 0.33022923350203276\n",
      "epoch 0 : 0.29714195026968554\n",
      "epoch 0 : 0.29905589440143593\n",
      "epoch 0 : 0.27056487142225044\n",
      "epoch 0 : 0.24781019254913786\n",
      "epoch 0 : 0.24713301215698105\n",
      "epoch 0 : 0.22911828404671927\n",
      "epoch 0 : 0.24121173911336508\n",
      "epoch 0 : 0.22585526794133837\n",
      "epoch 0 : 0.20743271024666582\n",
      "epoch 0 : 0.20798664505251793\n",
      "epoch 0 : 0.19886573672044988\n",
      "epoch 0 : 0.20077559654289548\n",
      "epoch 0 : 0.20366139930670227\n",
      "epoch 0 : 0.19553948270368232\n",
      "epoch 0 : 0.18979069554756559\n",
      "epoch 0 : 0.21260414119036997\n",
      "epoch 0 : 0.17864365512988695\n",
      "epoch 0 : 0.1944053282743875\n",
      "epoch 0 : 0.19565017074444357\n",
      "epoch 0 : 0.19188361798487258\n",
      "epoch 0 : 0.17206015707430133\n",
      "epoch 0 : 0.18180007533642334\n",
      "epoch 0 : 0.16785089208143708\n",
      "epoch 0 : 0.18165173779503144\n",
      "epoch 0 : 0.18938694017414825\n",
      "epoch 0 : 0.17686051687525497\n",
      "epoch 0 : 0.18140949022690794\n",
      "epoch 0 : 0.17219216316119698\n",
      "epoch 0 : 0.19561893987140336\n",
      "epoch 0 : 0.17955377911333678\n",
      "epoch 0 : 0.19033680004617576\n",
      "epoch 0 : 0.16623649633483706\n",
      "epoch 0 : 0.17401678616501579\n",
      "epoch 0 : 0.16845410904661026\n",
      "epoch 0 : 0.17360137802897133\n",
      "epoch 0 : 0.17663130502116037\n",
      "epoch 0 : 0.17961469419790171\n",
      "epoch 0 : 0.1832995006960348\n",
      "epoch 0 : 0.17500418503436288\n",
      "epoch 0 : 0.18122761595297773\n",
      "epoch 0 : 0.16994354301742315\n",
      "epoch 0 : 0.17904041786725963\n",
      "epoch 0 : 0.16723044494357572\n",
      "epoch 0 : 0.1724398389249729\n",
      "epoch 0 : 0.17161776529468126\n",
      "epoch 0 : 0.1658958754890937\n",
      "epoch 0 : 0.16919328671602046\n",
      "epoch 0 : 0.17123059985719657\n",
      "epoch 0 : 0.17373266861588316\n",
      "epoch 0 : 0.16890116892834384\n",
      "epoch 0 : 0.17753072429517502\n",
      "epoch 0 : 0.1706176204478046\n",
      "epoch 0 : 0.1669462328552401\n",
      "epoch 0 : 0.16548160243611953\n",
      "epoch 0 : 0.18148536932477002\n",
      "epoch 0 : 0.1795735943245616\n",
      "epoch 0 : 0.16590593618427307\n",
      "epoch 0 : 0.17686516014955245\n",
      "epoch 0 : 0.16673480763900622\n",
      "epoch 0 : 0.17908151991167995\n",
      "epoch 0 : 0.1853504539099561\n",
      "epoch 0 : 0.16938944548873472\n",
      "epoch 0 : 0.17081302219718647\n",
      "epoch 0 : 0.179215803335168\n",
      "epoch 0 : 0.18538899355804148\n",
      "epoch 0 : 0.17770575821156598\n",
      "epoch 0 : 0.16634222658981318\n",
      "epoch 0 : 0.17087498504835213\n",
      "epoch 0 : 0.17206602751003036\n",
      "epoch 0 : 0.1784762459824437\n"
     ]
    }
   ],
   "source": [
    "for i in range(100):\n",
    "    X, Y = gen_net.gen_sample(R = 10., s = 1000)\n",
    "    net.sgd_train(X, Y, tau = .1, batch = 4, epochs = 1, disp = True)"
   ]
  },
  {
   "cell_type": "code",
   "execution_count": 101,
   "metadata": {
    "scrolled": true
   },
   "outputs": [
    {
     "name": "stdout",
     "output_type": "stream",
     "text": [
      "epoch 0 : 0.2946000476733624\n",
      "epoch 0 : 0.21888410379205062\n",
      "epoch 0 : 0.20717455252193795\n",
      "epoch 0 : 0.19418069798802717\n",
      "epoch 0 : 0.19108213901378293\n",
      "epoch 0 : 0.18399723311402694\n",
      "epoch 0 : 0.1839201342092475\n",
      "epoch 0 : 0.1741652540678053\n",
      "epoch 0 : 0.16131460084783047\n",
      "epoch 0 : 0.14799494239884434\n",
      "epoch 0 : 0.13846846010932512\n",
      "epoch 0 : 0.12451600062325617\n",
      "epoch 0 : 0.11247170000479648\n",
      "epoch 0 : 0.09654327276835743\n",
      "epoch 0 : 0.08736709266488922\n",
      "epoch 0 : 0.08193634191537405\n",
      "epoch 0 : 0.0802291236856312\n",
      "epoch 0 : 0.07865950169046673\n",
      "epoch 0 : 0.07859462371040184\n",
      "epoch 0 : 0.07617987876401634\n",
      "epoch 0 : 0.07446867291473232\n",
      "epoch 0 : 0.07387059912932337\n",
      "epoch 0 : 0.06776263711070873\n",
      "epoch 0 : 0.06498209232201442\n",
      "epoch 0 : 0.06286818761482559\n",
      "epoch 0 : 0.0587772461650899\n",
      "epoch 0 : 0.05919155963662697\n",
      "epoch 0 : 0.05779283418798652\n",
      "epoch 0 : 0.052864748756553205\n",
      "epoch 0 : 0.050680488229375785\n",
      "epoch 0 : 0.04844659409828491\n",
      "epoch 0 : 0.04781260446906322\n",
      "epoch 0 : 0.048166869222636265\n",
      "epoch 0 : 0.048118878646591326\n",
      "epoch 0 : 0.04619129672213129\n",
      "epoch 0 : 0.044129710246179704\n",
      "epoch 0 : 0.045133584326357785\n",
      "epoch 0 : 0.0443757704161097\n",
      "epoch 0 : 0.04334594713616405\n",
      "epoch 0 : 0.04384676243983913\n",
      "epoch 0 : 0.04408107247814987\n",
      "epoch 0 : 0.04143962004209005\n",
      "epoch 0 : 0.04224224739771366\n",
      "epoch 0 : 0.04220232281341078\n",
      "epoch 0 : 0.04295676760710499\n",
      "epoch 0 : 0.04183556557882932\n",
      "epoch 0 : 0.04238691270723989\n",
      "epoch 0 : 0.04015513282284523\n",
      "epoch 0 : 0.039764678008686334\n",
      "epoch 0 : 0.0413757041892124\n",
      "epoch 0 : 0.04149860765672114\n",
      "epoch 0 : 0.039873866006141345\n",
      "epoch 0 : 0.040736900224029204\n",
      "epoch 0 : 0.03955318052246552\n",
      "epoch 0 : 0.04085634504916437\n",
      "epoch 0 : 0.04055679539906371\n",
      "epoch 0 : 0.04041684938509065\n",
      "epoch 0 : 0.03986408264855026\n",
      "epoch 0 : 0.04124585928316796\n",
      "epoch 0 : 0.03970424429608877\n",
      "epoch 0 : 0.03926091065283572\n",
      "epoch 0 : 0.04103219784705827\n",
      "epoch 0 : 0.039622632454182245\n",
      "epoch 0 : 0.0393412378338621\n",
      "epoch 0 : 0.03866145251347681\n",
      "epoch 0 : 0.03905400418692883\n",
      "epoch 0 : 0.038707329958116925\n",
      "epoch 0 : 0.03901175870985403\n",
      "epoch 0 : 0.03811989889539533\n",
      "epoch 0 : 0.036992610375110355\n",
      "epoch 0 : 0.03650504488340719\n",
      "epoch 0 : 0.03687160936969271\n",
      "epoch 0 : 0.03707335577939075\n",
      "epoch 0 : 0.03561202633113421\n",
      "epoch 0 : 0.03574135559913481\n",
      "epoch 0 : 0.03612981926739573\n",
      "epoch 0 : 0.036753040929482325\n",
      "epoch 0 : 0.03632790596407985\n",
      "epoch 0 : 0.036987215757761836\n",
      "epoch 0 : 0.03552336012143821\n",
      "epoch 0 : 0.03660545265407707\n",
      "epoch 0 : 0.035345416231476606\n",
      "epoch 0 : 0.036313699695150824\n",
      "epoch 0 : 0.035591794078255544\n",
      "epoch 0 : 0.03645307876299253\n",
      "epoch 0 : 0.036669846571383106\n",
      "epoch 0 : 0.03601619159485136\n",
      "epoch 0 : 0.03481320275132646\n",
      "epoch 0 : 0.036508608435456905\n",
      "epoch 0 : 0.0356683563112508\n",
      "epoch 0 : 0.03485334346354979\n",
      "epoch 0 : 0.03472334476242146\n",
      "epoch 0 : 0.03519497742344927\n",
      "epoch 0 : 0.03523956373349603\n",
      "epoch 0 : 0.03528108984740439\n",
      "epoch 0 : 0.03614322961764612\n",
      "epoch 0 : 0.03465093429252448\n",
      "epoch 0 : 0.03455231664500521\n",
      "epoch 0 : 0.035806368242346315\n",
      "epoch 0 : 0.03498779650501705\n"
     ]
    }
   ],
   "source": [
    "net = Network(10)\n",
    "net.zero_out()\n",
    "\n",
    "for i in range(100):\n",
    "    X, Y = gen_net.gen_sample(R = 10., s = 10000)\n",
    "    net.sgd_train(X, Y, tau = .1, batch = 4, epochs = 1, disp = True)"
   ]
  },
  {
   "cell_type": "markdown",
   "metadata": {},
   "source": [
    "We DO NOT reproduce the results :("
   ]
  },
  {
   "cell_type": "markdown",
   "metadata": {},
   "source": [
    "## Make several experiments for different values of $m$"
   ]
  },
  {
   "cell_type": "code",
   "execution_count": 58,
   "metadata": {},
   "outputs": [
    {
     "data": {
      "text/plain": [
       "array([  3.98107171,   5.01187234,   6.30957344,   7.94328235,\n",
       "        10.        ,  12.58925412,  15.84893192,  19.95262315,\n",
       "        25.11886432,  31.6227766 ,  39.81071706,  50.11872336,\n",
       "        63.09573445,  79.43282347, 100.        ])"
      ]
     },
     "execution_count": 58,
     "metadata": {},
     "output_type": "execute_result"
    }
   ],
   "source": [
    "np.logspace(0.6, 2.0, 15, base = 10.)"
   ]
  },
  {
   "cell_type": "markdown",
   "metadata": {},
   "source": [
    "Early stopping if no improvement for k rounds -> def train_to_opt to ensure convergence"
   ]
  },
  {
   "cell_type": "code",
   "execution_count": 59,
   "metadata": {
    "scrolled": true
   },
   "outputs": [
    {
     "name": "stderr",
     "output_type": "stream",
     "text": [
      "  0%|          | 0/1 [00:00<?, ?it/s]/Users/eloise/anaconda3/lib/python3.7/site-packages/ipykernel_launcher.py:2: RuntimeWarning: overflow encountered in exp\n",
      "  \n"
     ]
    },
    {
     "name": "stdout",
     "output_type": "stream",
     "text": [
      "train 0.5448082682755575\n",
      "test 0.573764869060813\n",
      "3\n",
      "train 0.4159811036691315\n",
      "test 0.42562705816780616\n",
      "5\n",
      "train 0.3772323259362697\n",
      "test 0.3758681223979035\n",
      "6\n",
      "train 0.38742523282868346\n",
      "test 0.3914055439572904\n",
      "7\n",
      "train 0.3540283534045254\n",
      "test 0.3525521849293182\n",
      "10\n",
      "train 0.35981151617269685\n",
      "test 0.34475628457191554\n",
      "12\n",
      "train 0.32850182861131016\n",
      "test 0.3438091168855692\n",
      "15\n",
      "train 0.3445246714038056\n",
      "test 0.35887320670377143\n",
      "19\n",
      "train 0.36146070611355446\n",
      "test 0.3719601751977567\n",
      "25\n",
      "train 0.46714332155731925\n",
      "test 0.4816220640744987\n",
      "31\n",
      "train 0.49599529008203863\n",
      "test 0.5308167858131756\n",
      "39\n"
     ]
    },
    {
     "ename": "KeyboardInterrupt",
     "evalue": "",
     "output_type": "error",
     "traceback": [
      "\u001b[0;31m---------------------------------------------------------------------------\u001b[0m",
      "\u001b[0;31mKeyboardInterrupt\u001b[0m                         Traceback (most recent call last)",
      "\u001b[0;32m<ipython-input-59-c5fc1f8c4afb>\u001b[0m in \u001b[0;36m<module>\u001b[0;34m()\u001b[0m\n\u001b[1;32m     12\u001b[0m         \u001b[0mnet\u001b[0m\u001b[0;34m.\u001b[0m\u001b[0mzero_out\u001b[0m\u001b[0;34m(\u001b[0m\u001b[0;34m)\u001b[0m\u001b[0;34m\u001b[0m\u001b[0m\n\u001b[1;32m     13\u001b[0m         \u001b[0mX\u001b[0m\u001b[0;34m,\u001b[0m \u001b[0mY\u001b[0m \u001b[0;34m=\u001b[0m \u001b[0mgen_net\u001b[0m\u001b[0;34m.\u001b[0m\u001b[0mgen_sample\u001b[0m\u001b[0;34m(\u001b[0m\u001b[0mR\u001b[0m \u001b[0;34m=\u001b[0m \u001b[0;36m100\u001b[0m\u001b[0;34m,\u001b[0m \u001b[0ms\u001b[0m \u001b[0;34m=\u001b[0m \u001b[0;36m20000\u001b[0m\u001b[0;34m)\u001b[0m\u001b[0;34m\u001b[0m\u001b[0m\n\u001b[0;32m---> 14\u001b[0;31m         \u001b[0mtrain_loss\u001b[0m \u001b[0;34m=\u001b[0m \u001b[0mnet\u001b[0m\u001b[0;34m.\u001b[0m\u001b[0msgd_train\u001b[0m\u001b[0;34m(\u001b[0m\u001b[0mX\u001b[0m\u001b[0;34m,\u001b[0m \u001b[0mY\u001b[0m\u001b[0;34m,\u001b[0m \u001b[0mtau\u001b[0m \u001b[0;34m=\u001b[0m \u001b[0;36m.1\u001b[0m\u001b[0;34m,\u001b[0m \u001b[0mbatch\u001b[0m \u001b[0;34m=\u001b[0m \u001b[0;36m10\u001b[0m\u001b[0;34m,\u001b[0m \u001b[0mepochs\u001b[0m \u001b[0;34m=\u001b[0m \u001b[0;36m1\u001b[0m\u001b[0;34m,\u001b[0m \u001b[0mdisp\u001b[0m \u001b[0;34m=\u001b[0m \u001b[0;32mFalse\u001b[0m\u001b[0;34m)\u001b[0m\u001b[0;34m\u001b[0m\u001b[0m\n\u001b[0m\u001b[1;32m     15\u001b[0m         \u001b[0mprint\u001b[0m\u001b[0;34m(\u001b[0m\u001b[0;34m'train'\u001b[0m\u001b[0;34m,\u001b[0m \u001b[0mtrain_loss\u001b[0m\u001b[0;34m)\u001b[0m\u001b[0;34m\u001b[0m\u001b[0m\n\u001b[1;32m     16\u001b[0m         \u001b[0mlosses\u001b[0m\u001b[0;34m[\u001b[0m\u001b[0mmi\u001b[0m\u001b[0;34m,\u001b[0m \u001b[0mr\u001b[0m\u001b[0;34m]\u001b[0m \u001b[0;34m=\u001b[0m \u001b[0mnet\u001b[0m\u001b[0;34m.\u001b[0m\u001b[0mtest\u001b[0m\u001b[0;34m(\u001b[0m\u001b[0mXt\u001b[0m\u001b[0;34m,\u001b[0m \u001b[0mYt\u001b[0m\u001b[0;34m)\u001b[0m\u001b[0;34m\u001b[0m\u001b[0m\n",
      "\u001b[0;32m<ipython-input-49-a0c7df911946>\u001b[0m in \u001b[0;36msgd_train\u001b[0;34m(self, X, Y, tau, epochs, batch, disp)\u001b[0m\n\u001b[1;32m     50\u001b[0m                 \u001b[0msubY\u001b[0m \u001b[0;34m=\u001b[0m \u001b[0mnp\u001b[0m\u001b[0;34m.\u001b[0m\u001b[0msplit\u001b[0m\u001b[0;34m(\u001b[0m\u001b[0mY\u001b[0m\u001b[0;34m,\u001b[0m \u001b[0mnbatch\u001b[0m\u001b[0;34m)\u001b[0m\u001b[0;34m\u001b[0m\u001b[0m\n\u001b[1;32m     51\u001b[0m                 \u001b[0;32mfor\u001b[0m \u001b[0ms\u001b[0m \u001b[0;32min\u001b[0m \u001b[0mrange\u001b[0m\u001b[0;34m(\u001b[0m\u001b[0mlen\u001b[0m\u001b[0;34m(\u001b[0m\u001b[0msubX\u001b[0m\u001b[0;34m)\u001b[0m\u001b[0;34m)\u001b[0m\u001b[0;34m:\u001b[0m\u001b[0;34m\u001b[0m\u001b[0m\n\u001b[0;32m---> 52\u001b[0;31m                     \u001b[0mself\u001b[0m\u001b[0;34m.\u001b[0m\u001b[0mbatch_step\u001b[0m\u001b[0;34m(\u001b[0m\u001b[0msubX\u001b[0m\u001b[0;34m[\u001b[0m\u001b[0ms\u001b[0m\u001b[0;34m]\u001b[0m\u001b[0;34m,\u001b[0m \u001b[0msubY\u001b[0m\u001b[0;34m[\u001b[0m\u001b[0ms\u001b[0m\u001b[0;34m]\u001b[0m\u001b[0;34m,\u001b[0m \u001b[0mtau\u001b[0m\u001b[0;34m)\u001b[0m\u001b[0;34m\u001b[0m\u001b[0m\n\u001b[0m\u001b[1;32m     53\u001b[0m             \u001b[0;32melse\u001b[0m\u001b[0;34m:\u001b[0m\u001b[0;34m\u001b[0m\u001b[0m\n\u001b[1;32m     54\u001b[0m                 \u001b[0;32mfor\u001b[0m \u001b[0mi\u001b[0m \u001b[0;32min\u001b[0m \u001b[0mrange\u001b[0m\u001b[0;34m(\u001b[0m\u001b[0mX\u001b[0m\u001b[0;34m.\u001b[0m\u001b[0mshape\u001b[0m\u001b[0;34m[\u001b[0m\u001b[0;36m0\u001b[0m\u001b[0;34m]\u001b[0m\u001b[0;34m)\u001b[0m\u001b[0;34m:\u001b[0m\u001b[0;34m\u001b[0m\u001b[0m\n",
      "\u001b[0;32m<ipython-input-49-a0c7df911946>\u001b[0m in \u001b[0;36mbatch_step\u001b[0;34m(self, X, Y, tau)\u001b[0m\n\u001b[1;32m     32\u001b[0m         \u001b[0mGa\u001b[0m\u001b[0;34m,\u001b[0m \u001b[0mGw\u001b[0m\u001b[0;34m,\u001b[0m \u001b[0mGb\u001b[0m \u001b[0;34m=\u001b[0m \u001b[0mnp\u001b[0m\u001b[0;34m.\u001b[0m\u001b[0mzeros\u001b[0m\u001b[0;34m(\u001b[0m\u001b[0;34m(\u001b[0m\u001b[0mba\u001b[0m\u001b[0;34m,\u001b[0m \u001b[0mself\u001b[0m\u001b[0;34m.\u001b[0m\u001b[0mwidth\u001b[0m\u001b[0;34m)\u001b[0m\u001b[0;34m)\u001b[0m\u001b[0;34m,\u001b[0m \u001b[0mnp\u001b[0m\u001b[0;34m.\u001b[0m\u001b[0mzeros\u001b[0m\u001b[0;34m(\u001b[0m\u001b[0;34m(\u001b[0m\u001b[0mba\u001b[0m\u001b[0;34m,\u001b[0m \u001b[0mself\u001b[0m\u001b[0;34m.\u001b[0m\u001b[0mwidth\u001b[0m\u001b[0;34m,\u001b[0m \u001b[0md\u001b[0m\u001b[0;34m)\u001b[0m\u001b[0;34m)\u001b[0m\u001b[0;34m,\u001b[0m \u001b[0mnp\u001b[0m\u001b[0;34m.\u001b[0m\u001b[0mzeros\u001b[0m\u001b[0;34m(\u001b[0m\u001b[0;34m(\u001b[0m\u001b[0mba\u001b[0m\u001b[0;34m,\u001b[0m \u001b[0mself\u001b[0m\u001b[0;34m.\u001b[0m\u001b[0mwidth\u001b[0m\u001b[0;34m)\u001b[0m\u001b[0;34m)\u001b[0m\u001b[0;34m\u001b[0m\u001b[0m\n\u001b[1;32m     33\u001b[0m         \u001b[0;32mfor\u001b[0m \u001b[0mi\u001b[0m \u001b[0;32min\u001b[0m \u001b[0mrange\u001b[0m\u001b[0;34m(\u001b[0m\u001b[0mba\u001b[0m\u001b[0;34m)\u001b[0m\u001b[0;34m:\u001b[0m\u001b[0;34m\u001b[0m\u001b[0m\n\u001b[0;32m---> 34\u001b[0;31m             \u001b[0mGa\u001b[0m\u001b[0;34m[\u001b[0m\u001b[0mi\u001b[0m\u001b[0;34m]\u001b[0m\u001b[0;34m,\u001b[0m \u001b[0mGw\u001b[0m\u001b[0;34m[\u001b[0m\u001b[0mi\u001b[0m\u001b[0;34m]\u001b[0m\u001b[0;34m,\u001b[0m \u001b[0mGb\u001b[0m\u001b[0;34m[\u001b[0m\u001b[0mi\u001b[0m\u001b[0;34m]\u001b[0m \u001b[0;34m=\u001b[0m \u001b[0mself\u001b[0m\u001b[0;34m.\u001b[0m\u001b[0mgrad\u001b[0m\u001b[0;34m(\u001b[0m\u001b[0mX\u001b[0m\u001b[0;34m[\u001b[0m\u001b[0mi\u001b[0m\u001b[0;34m]\u001b[0m\u001b[0;34m,\u001b[0m \u001b[0mY\u001b[0m\u001b[0;34m[\u001b[0m\u001b[0mi\u001b[0m\u001b[0;34m]\u001b[0m\u001b[0;34m)\u001b[0m\u001b[0;34m\u001b[0m\u001b[0m\n\u001b[0m\u001b[1;32m     35\u001b[0m         \u001b[0mga\u001b[0m\u001b[0;34m,\u001b[0m \u001b[0mgw\u001b[0m\u001b[0;34m,\u001b[0m \u001b[0mgb\u001b[0m \u001b[0;34m=\u001b[0m \u001b[0mGa\u001b[0m\u001b[0;34m.\u001b[0m\u001b[0msum\u001b[0m\u001b[0;34m(\u001b[0m\u001b[0maxis\u001b[0m \u001b[0;34m=\u001b[0m \u001b[0;36m0\u001b[0m\u001b[0;34m)\u001b[0m\u001b[0;34m,\u001b[0m \u001b[0mGw\u001b[0m\u001b[0;34m.\u001b[0m\u001b[0msum\u001b[0m\u001b[0;34m(\u001b[0m\u001b[0maxis\u001b[0m \u001b[0;34m=\u001b[0m \u001b[0;36m0\u001b[0m\u001b[0;34m)\u001b[0m\u001b[0;34m,\u001b[0m \u001b[0mGb\u001b[0m\u001b[0;34m.\u001b[0m\u001b[0msum\u001b[0m\u001b[0;34m(\u001b[0m\u001b[0maxis\u001b[0m \u001b[0;34m=\u001b[0m \u001b[0;36m0\u001b[0m\u001b[0;34m)\u001b[0m\u001b[0;34m\u001b[0m\u001b[0m\n\u001b[1;32m     36\u001b[0m         \u001b[0;32mfor\u001b[0m \u001b[0mi\u001b[0m \u001b[0;32min\u001b[0m \u001b[0mrange\u001b[0m\u001b[0;34m(\u001b[0m\u001b[0mself\u001b[0m\u001b[0;34m.\u001b[0m\u001b[0mwidth\u001b[0m\u001b[0;34m)\u001b[0m\u001b[0;34m:\u001b[0m\u001b[0;34m\u001b[0m\u001b[0m\n",
      "\u001b[0;32m<ipython-input-49-a0c7df911946>\u001b[0m in \u001b[0;36mgrad\u001b[0;34m(self, x, y)\u001b[0m\n\u001b[1;32m     14\u001b[0m         \u001b[0;32mreturn\u001b[0m \u001b[0;36m.5\u001b[0m\u001b[0;34m*\u001b[0m\u001b[0;34m(\u001b[0m\u001b[0mself\u001b[0m\u001b[0;34m.\u001b[0m\u001b[0moutput\u001b[0m\u001b[0;34m(\u001b[0m\u001b[0mx\u001b[0m\u001b[0;34m)\u001b[0m \u001b[0;34m-\u001b[0m \u001b[0my\u001b[0m\u001b[0;34m)\u001b[0m\u001b[0;34m**\u001b[0m\u001b[0;36m2\u001b[0m\u001b[0;34m\u001b[0m\u001b[0m\n\u001b[1;32m     15\u001b[0m     \u001b[0;32mdef\u001b[0m \u001b[0mgrad\u001b[0m\u001b[0;34m(\u001b[0m\u001b[0mself\u001b[0m\u001b[0;34m,\u001b[0m \u001b[0mx\u001b[0m\u001b[0;34m,\u001b[0m \u001b[0my\u001b[0m\u001b[0;34m)\u001b[0m\u001b[0;34m:\u001b[0m\u001b[0;34m\u001b[0m\u001b[0m\n\u001b[0;32m---> 16\u001b[0;31m         \u001b[0md\u001b[0m \u001b[0;34m=\u001b[0m \u001b[0;34m(\u001b[0m\u001b[0mself\u001b[0m\u001b[0;34m.\u001b[0m\u001b[0moutput\u001b[0m\u001b[0;34m(\u001b[0m\u001b[0mx\u001b[0m\u001b[0;34m)\u001b[0m \u001b[0;34m-\u001b[0m \u001b[0my\u001b[0m\u001b[0;34m)\u001b[0m\u001b[0;34m\u001b[0m\u001b[0m\n\u001b[0m\u001b[1;32m     17\u001b[0m         \u001b[0ms\u001b[0m \u001b[0;34m=\u001b[0m \u001b[0mnp\u001b[0m\u001b[0;34m.\u001b[0m\u001b[0marray\u001b[0m\u001b[0;34m(\u001b[0m\u001b[0;34m[\u001b[0m\u001b[0msigma\u001b[0m\u001b[0;34m(\u001b[0m\u001b[0mn\u001b[0m\u001b[0;34m.\u001b[0m\u001b[0mw\u001b[0m\u001b[0;34m.\u001b[0m\u001b[0mdot\u001b[0m\u001b[0;34m(\u001b[0m\u001b[0mx\u001b[0m\u001b[0;34m)\u001b[0m \u001b[0;34m+\u001b[0m \u001b[0mn\u001b[0m\u001b[0;34m.\u001b[0m\u001b[0mb\u001b[0m\u001b[0;34m)\u001b[0m \u001b[0;32mfor\u001b[0m \u001b[0mn\u001b[0m \u001b[0;32min\u001b[0m \u001b[0mself\u001b[0m\u001b[0;34m.\u001b[0m\u001b[0mneurons\u001b[0m\u001b[0;34m]\u001b[0m\u001b[0;34m)\u001b[0m\u001b[0;34m\u001b[0m\u001b[0m\n\u001b[1;32m     18\u001b[0m         \u001b[0mga\u001b[0m \u001b[0;34m=\u001b[0m \u001b[0;36m1.\u001b[0m\u001b[0;34m/\u001b[0m\u001b[0mself\u001b[0m\u001b[0;34m.\u001b[0m\u001b[0mwidth\u001b[0m \u001b[0;34m*\u001b[0m \u001b[0md\u001b[0m \u001b[0;34m*\u001b[0m \u001b[0ms\u001b[0m\u001b[0;34m\u001b[0m\u001b[0m\n",
      "\u001b[0;32m<ipython-input-49-a0c7df911946>\u001b[0m in \u001b[0;36moutput\u001b[0;34m(self, x)\u001b[0m\n\u001b[1;32m     10\u001b[0m             \u001b[0mnr\u001b[0m\u001b[0;34m.\u001b[0m\u001b[0mset_weights\u001b[0m\u001b[0;34m(\u001b[0m\u001b[0mnr\u001b[0m\u001b[0;34m.\u001b[0m\u001b[0ma\u001b[0m\u001b[0;34m,\u001b[0m \u001b[0mnr\u001b[0m\u001b[0;34m.\u001b[0m\u001b[0mw\u001b[0m\u001b[0;34m,\u001b[0m \u001b[0;36m0\u001b[0m\u001b[0;34m)\u001b[0m\u001b[0;34m\u001b[0m\u001b[0m\n\u001b[1;32m     11\u001b[0m     \u001b[0;32mdef\u001b[0m \u001b[0moutput\u001b[0m\u001b[0;34m(\u001b[0m\u001b[0mself\u001b[0m\u001b[0;34m,\u001b[0m \u001b[0mx\u001b[0m\u001b[0;34m)\u001b[0m\u001b[0;34m:\u001b[0m\u001b[0;34m\u001b[0m\u001b[0m\n\u001b[0;32m---> 12\u001b[0;31m         \u001b[0;32mreturn\u001b[0m \u001b[0mnp\u001b[0m\u001b[0;34m.\u001b[0m\u001b[0mmean\u001b[0m\u001b[0;34m(\u001b[0m\u001b[0;34m[\u001b[0m\u001b[0mn\u001b[0m\u001b[0;34m.\u001b[0m\u001b[0mforward\u001b[0m\u001b[0;34m(\u001b[0m\u001b[0mx\u001b[0m\u001b[0;34m)\u001b[0m \u001b[0;32mfor\u001b[0m \u001b[0mn\u001b[0m \u001b[0;32min\u001b[0m \u001b[0mself\u001b[0m\u001b[0;34m.\u001b[0m\u001b[0mneurons\u001b[0m\u001b[0;34m]\u001b[0m\u001b[0;34m)\u001b[0m\u001b[0;34m\u001b[0m\u001b[0m\n\u001b[0m\u001b[1;32m     13\u001b[0m     \u001b[0;32mdef\u001b[0m \u001b[0mloss\u001b[0m\u001b[0;34m(\u001b[0m\u001b[0mself\u001b[0m\u001b[0;34m,\u001b[0m \u001b[0mx\u001b[0m\u001b[0;34m,\u001b[0m \u001b[0my\u001b[0m\u001b[0;34m)\u001b[0m\u001b[0;34m:\u001b[0m\u001b[0;34m\u001b[0m\u001b[0m\n\u001b[1;32m     14\u001b[0m         \u001b[0;32mreturn\u001b[0m \u001b[0;36m.5\u001b[0m\u001b[0;34m*\u001b[0m\u001b[0;34m(\u001b[0m\u001b[0mself\u001b[0m\u001b[0;34m.\u001b[0m\u001b[0moutput\u001b[0m\u001b[0;34m(\u001b[0m\u001b[0mx\u001b[0m\u001b[0;34m)\u001b[0m \u001b[0;34m-\u001b[0m \u001b[0my\u001b[0m\u001b[0;34m)\u001b[0m\u001b[0;34m**\u001b[0m\u001b[0;36m2\u001b[0m\u001b[0;34m\u001b[0m\u001b[0m\n",
      "\u001b[0;32m~/anaconda3/lib/python3.7/site-packages/numpy/core/fromnumeric.py\u001b[0m in \u001b[0;36mmean\u001b[0;34m(a, axis, dtype, out, keepdims)\u001b[0m\n\u001b[1;32m   2944\u001b[0m     \"\"\"\n\u001b[1;32m   2945\u001b[0m     \u001b[0mkwargs\u001b[0m \u001b[0;34m=\u001b[0m \u001b[0;34m{\u001b[0m\u001b[0;34m}\u001b[0m\u001b[0;34m\u001b[0m\u001b[0m\n\u001b[0;32m-> 2946\u001b[0;31m     \u001b[0;32mif\u001b[0m \u001b[0mkeepdims\u001b[0m \u001b[0;32mis\u001b[0m \u001b[0;32mnot\u001b[0m \u001b[0mnp\u001b[0m\u001b[0;34m.\u001b[0m\u001b[0m_NoValue\u001b[0m\u001b[0;34m:\u001b[0m\u001b[0;34m\u001b[0m\u001b[0m\n\u001b[0m\u001b[1;32m   2947\u001b[0m         \u001b[0mkwargs\u001b[0m\u001b[0;34m[\u001b[0m\u001b[0;34m'keepdims'\u001b[0m\u001b[0;34m]\u001b[0m \u001b[0;34m=\u001b[0m \u001b[0mkeepdims\u001b[0m\u001b[0;34m\u001b[0m\u001b[0m\n\u001b[1;32m   2948\u001b[0m     \u001b[0;32mif\u001b[0m \u001b[0mtype\u001b[0m\u001b[0;34m(\u001b[0m\u001b[0ma\u001b[0m\u001b[0;34m)\u001b[0m \u001b[0;32mis\u001b[0m \u001b[0;32mnot\u001b[0m \u001b[0mmu\u001b[0m\u001b[0;34m.\u001b[0m\u001b[0mndarray\u001b[0m\u001b[0;34m:\u001b[0m\u001b[0;34m\u001b[0m\u001b[0m\n",
      "\u001b[0;31mKeyboardInterrupt\u001b[0m: "
     ]
    }
   ],
   "source": [
    "m_range = np.logspace(0.6, 2.0, 15, base = 10.)\n",
    "m_range = [int(b) for b in m_range]\n",
    "rep = 1\n",
    "losses = np.zeros((len(m_range), rep))\n",
    "\n",
    "for r in tqdm.tqdm(range(rep)):\n",
    "    gen_net = Network(M)\n",
    "    Xt, Yt = gen_net.gen_sample(R = 100, s = 1000)\n",
    "    for mi in range(len(m_range)):\n",
    "        m = m_range[mi]\n",
    "        net = Network(m)\n",
    "        net.zero_out()\n",
    "        X, Y = gen_net.gen_sample(R = 100, s = 20000)\n",
    "        train_loss = net.sgd_train(X, Y, tau = .1, batch = 10, epochs = 1, disp = False)\n",
    "        print('train', train_loss)\n",
    "        losses[mi, r] = net.test(Xt, Yt)\n",
    "        print('test', losses[mi, r])\n",
    "        net = []\n",
    "        print(m)"
   ]
  },
  {
   "cell_type": "code",
   "execution_count": 44,
   "metadata": {},
   "outputs": [
    {
     "data": {
      "image/png": "[encoded data removed]",
      "text/plain": [
       "<Figure size 720x432 with 1 Axes>"
      ]
     },
     "metadata": {
      "needs_background": "light"
     },
     "output_type": "display_data"
    }
   ],
   "source": [
    "plt.figure(figsize = (10, 6))\n",
    "for i in range(rep):\n",
    "    plt.scatter(m_range, losses[:, i], c='r', alpha = 0.4)\n",
    "plt.plot(m_range, np.exp(np.mean(np.log(losses), axis = 1)))\n",
    "plt.yscale('log')\n",
    "plt.xscale('log')\n",
    "plt.xlim((2.8, 105))\n",
    "#plt.ylim((1e-6, 1))\n",
    "plt.show()"
   ]
  },
  {
   "cell_type": "markdown",
   "metadata": {},
   "source": [
    "Write batch train function, reduce d, \"use fresh samples at each iteration\", sampling at test time"
   ]
  },
  {
   "cell_type": "code",
   "execution_count": null,
   "metadata": {},
   "outputs": [],
   "source": []
  }
 ],
 "metadata": {
  "kernelspec": {
   "display_name": "Python 3",
   "language": "python",
   "name": "python3"
  },
  "language_info": {
   "codemirror_mode": {
    "name": "ipython",
    "version": 3
   },
   "file_extension": ".py",
   "mimetype": "text/x-python",
   "name": "python",
   "nbconvert_exporter": "python",
   "pygments_lexer": "ipython3",
   "version": "3.7.0"
  }
 },
 "nbformat": 4,
 "nbformat_minor": 2
}
