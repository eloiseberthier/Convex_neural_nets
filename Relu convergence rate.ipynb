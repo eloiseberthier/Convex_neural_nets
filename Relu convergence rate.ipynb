{
 "cells": [
  {
   "cell_type": "code",
   "execution_count": 1,
   "metadata": {
    "colab": {},
    "colab_type": "code",
    "id": "g_STLQdFaVGv"
   },
   "outputs": [],
   "source": [
    "import numpy as np\n",
    "import matplotlib.pyplot as plt\n",
    "np.random.seed(1)\n",
    "import tqdm"
   ]
  },
  {
   "cell_type": "markdown",
   "metadata": {
    "colab_type": "text",
    "id": "iMU1BtdUaVG3"
   },
   "source": [
    "Relu neurons"
   ]
  },
  {
   "cell_type": "code",
   "execution_count": 2,
   "metadata": {
    "colab": {},
    "colab_type": "code",
    "id": "TqH11FlYaVG5"
   },
   "outputs": [],
   "source": [
    "d = 50 # dimension of space\n",
    "M = 10 # number of neurons for generation"
   ]
  },
  {
   "cell_type": "code",
   "execution_count": 3,
   "metadata": {
    "colab": {},
    "colab_type": "code",
    "id": "WvAeiuZhaVG-"
   },
   "outputs": [],
   "source": [
    "def relu(x):\n",
    "    if x >= 0:\n",
    "        return x\n",
    "    return 0"
   ]
  },
  {
   "cell_type": "code",
   "execution_count": 0,
   "metadata": {
    "colab": {},
    "colab_type": "code",
    "id": "-dd0D7x1aVHG"
   },
   "outputs": [],
   "source": [
    "def drelu(x):\n",
    "    if x >= 0:\n",
    "        return 1\n",
    "    return 0"
   ]
  },
  {
   "cell_type": "code",
   "execution_count": 0,
   "metadata": {
    "colab": {},
    "colab_type": "code",
    "id": "TmvpIdAWaVHK"
   },
   "outputs": [],
   "source": [
    "class Neuron:\n",
    "    def __init__(self):\n",
    "        a = np.random.normal()\n",
    "        w = np.random.normal(size = d)\n",
    "        b = np.random.normal()\n",
    "        #norm = 1e-1 * np.linalg.norm(np.concatenate([np.array([a, b]), w]), 2)\n",
    "        self.a = a # / norm\n",
    "        self.w = w #/ norm\n",
    "        self.b = b #/ norm\n",
    "    def set_weights(self, a, w, b):\n",
    "        self.a = a\n",
    "        self.w = w\n",
    "        self.b = b\n",
    "    def forward(self, x):\n",
    "        return self.a * relu(self.w.dot(x) + self.b)"
   ]
  },
  {
   "cell_type": "code",
   "execution_count": 0,
   "metadata": {
    "colab": {},
    "colab_type": "code",
    "id": "Csf02GR7aVHP"
   },
   "outputs": [],
   "source": [
    "class Network:\n",
    "    def __init__(self, width):\n",
    "        self.width = width\n",
    "        self.neurons = [Neuron() for i in range(width)]\n",
    "    def small_sphere(self, R):\n",
    "        for nr in self.neurons:\n",
    "            norm = 1./R * np.linalg.norm(np.concatenate([np.array([nr.b]), nr.w]), 2)\n",
    "            nr.set_weights(nr.a, nr.w/norm, nr.b/norm)\n",
    "        return\n",
    "    def output(self, x):\n",
    "        return np.mean([n.forward(x) for n in self.neurons])\n",
    "    def loss(self, x, y):\n",
    "        return .5*(self.output(x) - y)**2\n",
    "    def grad(self, x, y):\n",
    "        d = (self.output(x) - y)\n",
    "        s = np.array([relu(n.w.dot(x) + n.b) for n in self.neurons])\n",
    "        ds = np.array([drelu(n.w.dot(x) + n.b) for n in self.neurons])\n",
    "        ga = 1./self.width * d * s\n",
    "        gb = 1./self.width * d * np.array([self.neurons[i].a*ds[i] for i in range(self.width)])\n",
    "        gw = np.array([gb[i] * x for i in range(self.width)]) # shape m * d\n",
    "        return ga, gw, gb\n",
    "    def step(self, x, y, tau):\n",
    "        ga, gw, gb = self.grad(x, y)\n",
    "        for i in range(self.width):\n",
    "            nr = self.neurons[i]\n",
    "            a_new = nr.a - tau * ga[i]\n",
    "            w_new = nr.w - tau * gw[i]\n",
    "            b_new = nr.b - tau * gb[i]\n",
    "            nr.set_weights(a_new, w_new, b_new)\n",
    "    def batch_step(self, X, Y, tau):\n",
    "        ba = X.shape[0]\n",
    "        Ga, Gw, Gb = np.zeros((ba, self.width)), np.zeros((ba, self.width, d)), np.zeros((ba, self.width))\n",
    "        for i in range(ba):\n",
    "            Ga[i], Gw[i], Gb[i] = self.grad(X[i], Y[i])\n",
    "        ga, gw, gb = Ga.mean(axis = 0), Gw.mean(axis = 0), Gb.mean(axis = 0)\n",
    "        for i in range(self.width):\n",
    "            nr = self.neurons[i]\n",
    "            a_new = nr.a - tau * ga[i]\n",
    "            w_new = nr.w - tau * gw[i]\n",
    "            b_new = nr.b - tau * gb[i]\n",
    "            nr.set_weights(a_new, w_new, b_new)\n",
    "    def sgd_train(self, X, Y, tau, epochs, batch, disp = True):\n",
    "        for e in range(epochs):\n",
    "            pm = np.random.permutation(X.shape[0])\n",
    "            X = np.array([X[pm[i]] for i in range(X.shape[0])])\n",
    "            Y = np.array([Y[pm[i]] for i in range(Y.shape[0])])\n",
    "            if batch > 1:\n",
    "                nbatch = X.shape[0]//batch\n",
    "                subX = np.split(X, nbatch)\n",
    "                subY = np.split(Y, nbatch)\n",
    "                for s in range(len(subX)):\n",
    "                    self.batch_step(subX[s], subY[s], tau)\n",
    "            else:\n",
    "                for i in range(X.shape[0]):\n",
    "                    self.step(X[i], Y[i], tau)\n",
    "            loss = self.test(X, Y)\n",
    "            if disp:\n",
    "                print('epoch '+str(e)+' : '+str(loss))\n",
    "        return loss\n",
    "    def test(self, X_t, Y_t):\n",
    "        ts = X_t.shape[0]\n",
    "        return np.mean([self.loss(X_t[i], Y_t[i]) for i in range(ts)])\n",
    "    def gen_sample(self, s = 1):\n",
    "        if s==1:\n",
    "            X = np.random.normal(size = d)\n",
    "            Y = self.output(X)\n",
    "            return X, Y\n",
    "        else:\n",
    "            X = np.random.normal(size = (s, d))\n",
    "            Y = np.zeros(s)\n",
    "            for i in range(s):\n",
    "                Y[i] = self.output(X[i])\n",
    "            return X, Y\n",
    "    def give_weights(self):\n",
    "        la, lw, lb = np.zeros(self.width), np.zeros((self.width, d)), np.zeros(self.width)\n",
    "        for i in range(self.width):\n",
    "            nr = self.neurons[i]\n",
    "            la[i] = nr.a\n",
    "            lw[i] = nr.w\n",
    "            lb[i] = nr.b\n",
    "        return la, lw, lb\n",
    "    def display_weights(self, fig, ax, scat = None, true_w = None, color='b'):\n",
    "        assert d==2, 'must be in dimension 2'\n",
    "        #ax.cla()\n",
    "        ax.set_xlim((-2, 2))\n",
    "        ax.set_ylim((-2, 2))\n",
    "        la, lw, _ = self.give_weights()\n",
    "        x, y = np.zeros(self.width), np.zeros(self.width)\n",
    "        for k in range(self.width):\n",
    "            x[k] = lw[k, 0] * la[k]\n",
    "            y[k] = lw[k, 1] * la[k] \n",
    "        if scat is None:\n",
    "            pos = ax.scatter(x, y, s = 10., color=color)\n",
    "        else:\n",
    "            scat.set_offsets(np.array([x, y]).T)\n",
    "            trace = ax.scatter(x, y, s = 5., color='grey', alpha = 0.4)\n",
    "        if true_w is not None:\n",
    "            tla, tlw, tlb = true_w\n",
    "            tx, ty = np.zeros(tla.shape[0]), np.zeros(tla.shape[0])\n",
    "            for k in range(tla.shape[0]):\n",
    "                tx[k] = tlw[k, 0] * tla[k]\n",
    "                ty[k] = tlw[k, 1] * tla[k]\n",
    "                if tx[k]>= 0:\n",
    "                    u = np.linspace(0., 2., 10)\n",
    "                else:\n",
    "                    u = np.linspace(-2., 0., 10)\n",
    "                v = ty[k]/tx[k] * u\n",
    "                ax.plot(u, v, color = 'k')\n",
    "            ax.scatter(tx, ty, s = 100., color='r', alpha = 0.4)\n",
    "                \n",
    "        if scat is None:\n",
    "            fig.canvas.draw()\n",
    "        "
   ]
  },
  {
   "cell_type": "code",
   "execution_count": 0,
   "metadata": {
    "colab": {},
    "colab_type": "code",
    "id": "hENsxGEIaVHS"
   },
   "outputs": [],
   "source": [
    "gen_net = Network(M)\n",
    "gen_net.small_sphere(2.)\n",
    "\n",
    "X_test, Y_test = gen_net.gen_sample(10000)"
   ]
  },
  {
   "cell_type": "markdown",
   "metadata": {
    "colab_type": "text",
    "id": "AO3FjOGYaVHV"
   },
   "source": [
    "Initialize new network with parameters on the sphere."
   ]
  },
  {
   "cell_type": "code",
   "execution_count": 0,
   "metadata": {
    "colab": {
     "base_uri": "https://localhost:8080/",
     "height": 2663
    },
    "colab_type": "code",
    "id": "dBD0KpKtaVHX",
    "outputId": "8a869a37-7811-4531-e8fe-8fd018da413e"
   },
   "outputs": [
    {
     "name": "stdout",
     "output_type": "stream",
     "text": [
      "init 0.044462491896116736\n",
      "0.027548930730437574\n",
      "0.009051059268219941\n",
      "0.006713361814414171\n",
      "0.004706594407385\n",
      "0.003380102446473829\n",
      "0.0023233902220489585\n",
      "0.002042950203694243\n",
      "0.0016015177160886818\n",
      "0.0015280853136800335\n",
      "0.0012803315212489357\n",
      "0.0010520826677886095\n",
      "0.000850952068597632\n",
      "0.0007205917104167982\n",
      "0.0006380922611450396\n",
      "0.0005684768662883471\n",
      "0.000543921260254297\n",
      "0.0005252275928679246\n",
      "0.00045294169198079726\n",
      "0.0004652848111494036\n",
      "0.0004076214182588031\n",
      "0.0003992256472077118\n",
      "0.00036500323668423447\n",
      "0.0003313820079335738\n",
      "0.00034323818312271284\n",
      "0.00031875042586757056\n",
      "0.0003248087073260109\n",
      "0.00032056322172833654\n",
      "0.0003111965198536436\n",
      "0.000296993886100211\n",
      "0.00026987555248061046\n",
      "0.000263072711065991\n",
      "0.00026321204912435625\n",
      "0.00026777060127432153\n",
      "0.0002379095062603713\n",
      "0.00024371793957483602\n",
      "0.00023625710391404908\n",
      "0.00021463384971495697\n",
      "0.00020845466831615028\n",
      "0.00021441303602557897\n",
      "0.00021950100121271543\n",
      "0.00021061892755090762\n",
      "0.00019522739464412824\n",
      "0.0001894106408813086\n",
      "0.00018440262100114822\n",
      "0.00016887592620237911\n",
      "0.0001728201520486118\n",
      "0.00016308829019619358\n",
      "0.00016195812763829235\n",
      "0.0001618107602418833\n",
      "0.00016191749082069903\n",
      "0.00015450189947977734\n",
      "0.00014971350262732815\n",
      "0.00014237200896828427\n",
      "0.0001336057019041679\n",
      "0.00013931068160598446\n",
      "0.00013895014561080959\n",
      "0.00015804156316722917\n",
      "0.000136885118114607\n",
      "0.00014089412014111713\n",
      "0.00013001992586586934\n",
      "0.00012186028912870537\n",
      "0.0001227442106418323\n",
      "0.00011662922102325659\n",
      "0.00011951332794281062\n",
      "0.00011280530375589941\n",
      "0.0001171620791544725\n",
      "9.884073632166658e-05\n",
      "0.00010342836672771478\n",
      "0.0001232058824045139\n",
      "0.00010490299388935543\n",
      "9.836256035865733e-05\n",
      "9.542262719094852e-05\n",
      "0.00010214385336929362\n",
      "8.678586838828464e-05\n",
      "9.00866913707045e-05\n",
      "8.030545765876447e-05\n",
      "8.755003807352361e-05\n",
      "9.223466595146875e-05\n",
      "8.753620140330984e-05\n",
      "8.627417790237845e-05\n",
      "7.74180636096484e-05\n",
      "7.660987470162957e-05\n",
      "7.406509054041634e-05\n",
      "7.57981990347973e-05\n",
      "6.588207774591447e-05\n",
      "5.9794562776744386e-05\n",
      "6.271803768210618e-05\n",
      "5.469223599552584e-05\n",
      "6.0577134974921234e-05\n",
      "5.636669690925425e-05\n",
      "5.013901518379256e-05\n",
      "5.339111810168449e-05\n",
      "4.5089928214088946e-05\n",
      "4.346945389567407e-05\n",
      "4.383539638564958e-05\n",
      "4.3791601808940384e-05\n",
      "3.712031920487366e-05\n",
      "3.4619921690221725e-05\n",
      "3.4445120976616115e-05\n",
      "3.5414971396328023e-05\n",
      "3.0762880267196376e-05\n",
      "3.2009577728802086e-05\n",
      "2.6643969222048514e-05\n",
      "2.501567390096482e-05\n",
      "2.5660233445180726e-05\n",
      "2.4373091964604797e-05\n",
      "2.1626326663058544e-05\n",
      "2.0158740477741056e-05\n",
      "1.7946702107271018e-05\n",
      "1.9402347416251632e-05\n",
      "1.7182530429254775e-05\n",
      "1.7516951466854587e-05\n",
      "1.6101334564015256e-05\n",
      "1.5335963849272708e-05\n",
      "1.6331611593080223e-05\n",
      "1.3191403231805605e-05\n",
      "1.3104008276083601e-05\n",
      "1.2535531911853082e-05\n",
      "1.1764032036338715e-05\n",
      "1.244147803275418e-05\n",
      "1.1460487414892273e-05\n",
      "9.424926329642089e-06\n",
      "9.639275052816454e-06\n",
      "9.52072338236589e-06\n",
      "8.534931109410189e-06\n",
      "8.801697427648413e-06\n",
      "8.74757210848013e-06\n",
      "8.382150597930457e-06\n"
     ]
    },
    {
     "ename": "KeyboardInterrupt",
     "evalue": "ignored",
     "output_type": "error",
     "traceback": [
      "\u001b[0;31m---------------------------------------------------------------------------\u001b[0m",
      "\u001b[0;31mKeyboardInterrupt\u001b[0m                         Traceback (most recent call last)",
      "\u001b[0;32m<ipython-input-33-accbe3c3f7c5>\u001b[0m in \u001b[0;36m<module>\u001b[0;34m()\u001b[0m\n\u001b[1;32m      8\u001b[0m \u001b[0;32mfor\u001b[0m \u001b[0mi\u001b[0m \u001b[0;32min\u001b[0m \u001b[0mrange\u001b[0m\u001b[0;34m(\u001b[0m\u001b[0;36m5000\u001b[0m\u001b[0;34m)\u001b[0m\u001b[0;34m:\u001b[0m\u001b[0;34m\u001b[0m\u001b[0;34m\u001b[0m\u001b[0m\n\u001b[1;32m      9\u001b[0m     \u001b[0mX\u001b[0m\u001b[0;34m,\u001b[0m \u001b[0mY\u001b[0m \u001b[0;34m=\u001b[0m \u001b[0mgen_net\u001b[0m\u001b[0;34m.\u001b[0m\u001b[0mgen_sample\u001b[0m\u001b[0;34m(\u001b[0m\u001b[0;36m100\u001b[0m\u001b[0;34m)\u001b[0m\u001b[0;34m\u001b[0m\u001b[0;34m\u001b[0m\u001b[0m\n\u001b[0;32m---> 10\u001b[0;31m     \u001b[0mnet\u001b[0m\u001b[0;34m.\u001b[0m\u001b[0msgd_train\u001b[0m\u001b[0;34m(\u001b[0m\u001b[0mX\u001b[0m\u001b[0;34m,\u001b[0m \u001b[0mY\u001b[0m\u001b[0;34m,\u001b[0m \u001b[0mtau\u001b[0m \u001b[0;34m=\u001b[0m \u001b[0;36m.5\u001b[0m\u001b[0;34m,\u001b[0m \u001b[0mbatch\u001b[0m \u001b[0;34m=\u001b[0m \u001b[0;36m1\u001b[0m\u001b[0;34m,\u001b[0m \u001b[0mepochs\u001b[0m \u001b[0;34m=\u001b[0m \u001b[0;36m1\u001b[0m\u001b[0;34m,\u001b[0m \u001b[0mdisp\u001b[0m \u001b[0;34m=\u001b[0m \u001b[0;32mFalse\u001b[0m\u001b[0;34m)\u001b[0m\u001b[0;34m\u001b[0m\u001b[0;34m\u001b[0m\u001b[0m\n\u001b[0m\u001b[1;32m     11\u001b[0m     \u001b[0;32mif\u001b[0m \u001b[0mi\u001b[0m\u001b[0;34m%\u001b[0m\u001b[0;36m10\u001b[0m \u001b[0;34m==\u001b[0m \u001b[0;36m0\u001b[0m\u001b[0;34m:\u001b[0m\u001b[0;34m\u001b[0m\u001b[0;34m\u001b[0m\u001b[0m\n\u001b[1;32m     12\u001b[0m         \u001b[0mtest\u001b[0m \u001b[0;34m=\u001b[0m \u001b[0mnet\u001b[0m\u001b[0;34m.\u001b[0m\u001b[0mtest\u001b[0m\u001b[0;34m(\u001b[0m\u001b[0mX_test\u001b[0m\u001b[0;34m,\u001b[0m \u001b[0mY_test\u001b[0m\u001b[0;34m)\u001b[0m\u001b[0;34m\u001b[0m\u001b[0;34m\u001b[0m\u001b[0m\n",
      "\u001b[0;32m<ipython-input-18-eea51fa9b9f2>\u001b[0m in \u001b[0;36msgd_train\u001b[0;34m(self, X, Y, tau, epochs, batch, disp)\u001b[0m\n\u001b[1;32m     53\u001b[0m             \u001b[0;32melse\u001b[0m\u001b[0;34m:\u001b[0m\u001b[0;34m\u001b[0m\u001b[0;34m\u001b[0m\u001b[0m\n\u001b[1;32m     54\u001b[0m                 \u001b[0;32mfor\u001b[0m \u001b[0mi\u001b[0m \u001b[0;32min\u001b[0m \u001b[0mrange\u001b[0m\u001b[0;34m(\u001b[0m\u001b[0mX\u001b[0m\u001b[0;34m.\u001b[0m\u001b[0mshape\u001b[0m\u001b[0;34m[\u001b[0m\u001b[0;36m0\u001b[0m\u001b[0;34m]\u001b[0m\u001b[0;34m)\u001b[0m\u001b[0;34m:\u001b[0m\u001b[0;34m\u001b[0m\u001b[0;34m\u001b[0m\u001b[0m\n\u001b[0;32m---> 55\u001b[0;31m                     \u001b[0mself\u001b[0m\u001b[0;34m.\u001b[0m\u001b[0mstep\u001b[0m\u001b[0;34m(\u001b[0m\u001b[0mX\u001b[0m\u001b[0;34m[\u001b[0m\u001b[0mi\u001b[0m\u001b[0;34m]\u001b[0m\u001b[0;34m,\u001b[0m \u001b[0mY\u001b[0m\u001b[0;34m[\u001b[0m\u001b[0mi\u001b[0m\u001b[0;34m]\u001b[0m\u001b[0;34m,\u001b[0m \u001b[0mtau\u001b[0m\u001b[0;34m)\u001b[0m\u001b[0;34m\u001b[0m\u001b[0;34m\u001b[0m\u001b[0m\n\u001b[0m\u001b[1;32m     56\u001b[0m             \u001b[0mloss\u001b[0m \u001b[0;34m=\u001b[0m \u001b[0mself\u001b[0m\u001b[0;34m.\u001b[0m\u001b[0mtest\u001b[0m\u001b[0;34m(\u001b[0m\u001b[0mX\u001b[0m\u001b[0;34m,\u001b[0m \u001b[0mY\u001b[0m\u001b[0;34m)\u001b[0m\u001b[0;34m\u001b[0m\u001b[0;34m\u001b[0m\u001b[0m\n\u001b[1;32m     57\u001b[0m             \u001b[0;32mif\u001b[0m \u001b[0mdisp\u001b[0m\u001b[0;34m:\u001b[0m\u001b[0;34m\u001b[0m\u001b[0;34m\u001b[0m\u001b[0m\n",
      "\u001b[0;32m<ipython-input-18-eea51fa9b9f2>\u001b[0m in \u001b[0;36mstep\u001b[0;34m(self, x, y, tau)\u001b[0m\n\u001b[1;32m     25\u001b[0m             \u001b[0mnr\u001b[0m \u001b[0;34m=\u001b[0m \u001b[0mself\u001b[0m\u001b[0;34m.\u001b[0m\u001b[0mneurons\u001b[0m\u001b[0;34m[\u001b[0m\u001b[0mi\u001b[0m\u001b[0;34m]\u001b[0m\u001b[0;34m\u001b[0m\u001b[0;34m\u001b[0m\u001b[0m\n\u001b[1;32m     26\u001b[0m             \u001b[0ma_new\u001b[0m \u001b[0;34m=\u001b[0m \u001b[0mnr\u001b[0m\u001b[0;34m.\u001b[0m\u001b[0ma\u001b[0m \u001b[0;34m-\u001b[0m \u001b[0mtau\u001b[0m \u001b[0;34m*\u001b[0m \u001b[0mga\u001b[0m\u001b[0;34m[\u001b[0m\u001b[0mi\u001b[0m\u001b[0;34m]\u001b[0m\u001b[0;34m\u001b[0m\u001b[0;34m\u001b[0m\u001b[0m\n\u001b[0;32m---> 27\u001b[0;31m             \u001b[0mw_new\u001b[0m \u001b[0;34m=\u001b[0m \u001b[0mnr\u001b[0m\u001b[0;34m.\u001b[0m\u001b[0mw\u001b[0m \u001b[0;34m-\u001b[0m \u001b[0mtau\u001b[0m \u001b[0;34m*\u001b[0m \u001b[0mgw\u001b[0m\u001b[0;34m[\u001b[0m\u001b[0mi\u001b[0m\u001b[0;34m]\u001b[0m\u001b[0;34m\u001b[0m\u001b[0;34m\u001b[0m\u001b[0m\n\u001b[0m\u001b[1;32m     28\u001b[0m             \u001b[0mb_new\u001b[0m \u001b[0;34m=\u001b[0m \u001b[0mnr\u001b[0m\u001b[0;34m.\u001b[0m\u001b[0mb\u001b[0m \u001b[0;34m-\u001b[0m \u001b[0mtau\u001b[0m \u001b[0;34m*\u001b[0m \u001b[0mgb\u001b[0m\u001b[0;34m[\u001b[0m\u001b[0mi\u001b[0m\u001b[0;34m]\u001b[0m\u001b[0;34m\u001b[0m\u001b[0;34m\u001b[0m\u001b[0m\n\u001b[1;32m     29\u001b[0m             \u001b[0mnr\u001b[0m\u001b[0;34m.\u001b[0m\u001b[0mset_weights\u001b[0m\u001b[0;34m(\u001b[0m\u001b[0ma_new\u001b[0m\u001b[0;34m,\u001b[0m \u001b[0mw_new\u001b[0m\u001b[0;34m,\u001b[0m \u001b[0mb_new\u001b[0m\u001b[0;34m)\u001b[0m\u001b[0;34m\u001b[0m\u001b[0;34m\u001b[0m\u001b[0m\n",
      "\u001b[0;31mKeyboardInterrupt\u001b[0m: "
     ]
    }
   ],
   "source": [
    "net = Network(20)\n",
    "net.small_sphere(0.05)\n",
    "\n",
    "test_loss = []\n",
    "train_loss = []\n",
    "test = net.test(X_test, Y_test)\n",
    "print('init', test)\n",
    "for i in range(5000):\n",
    "    X, Y = gen_net.gen_sample(100)\n",
    "    net.sgd_train(X, Y, tau = .5, batch = 1, epochs = 1, disp = False)\n",
    "    if i%10 == 0:\n",
    "        test = net.test(X_test, Y_test)\n",
    "        train = net.test(X, Y)\n",
    "        test_loss.append(test)\n",
    "        train_loss.append(train)\n",
    "        print(test)"
   ]
  },
  {
   "cell_type": "code",
   "execution_count": 0,
   "metadata": {
    "colab": {
     "base_uri": "https://localhost:8080/",
     "height": 393
    },
    "colab_type": "code",
    "id": "7sOWQc2qcbhd",
    "outputId": "da1e4d9c-bef2-4ce6-bd84-2a0c67481744"
   },
   "outputs": [
    {
     "data": {
      "text/plain": [
       "Text(0.5,1,'Training a ReLU neural network with 20 units (M = 10)')"
      ]
     },
     "execution_count": 38,
     "metadata": {
      "tags": []
     },
     "output_type": "execute_result"
    },
    {
     "data": {
      "image/png": "[encoded data removed]",
      "text/plain": [
       "<matplotlib.figure.Figure at 0x7f74089c5cf8>"
      ]
     },
     "metadata": {
      "tags": []
     },
     "output_type": "display_data"
    }
   ],
   "source": [
    "plt.figure()\n",
    "plt.plot(train_loss)\n",
    "plt.plot(test_loss)\n",
    "plt.legend(['train', 'test'])\n",
    "plt.xlabel('iterations (x1000 samples)')\n",
    "plt.ylabel('loss')\n",
    "plt.yscale('log')\n",
    "plt.title('Training a ReLU neural network with 20 units (M = 10)')"
   ]
  },
  {
   "cell_type": "code",
   "execution_count": 0,
   "metadata": {
    "colab": {
     "base_uri": "https://localhost:8080/",
     "height": 5587
    },
    "colab_type": "code",
    "id": "GJfT0N3jb_GO",
    "outputId": "6c1fa3e4-dee6-4c4d-babb-a1c13139e664"
   },
   "outputs": [
    {
     "name": "stdout",
     "output_type": "stream",
     "text": [
      "init 0.04418097140598761\n",
      "0.028489193407919798\n",
      "0.009866809329397354\n",
      "0.008030737116102618\n",
      "0.007636411000201176\n",
      "0.0074837652505326336\n",
      "0.007097575316724628\n",
      "0.007489793367734883\n",
      "0.00613831254711495\n",
      "0.006300311775399767\n",
      "0.006226821029088123\n",
      "0.006027712244672773\n",
      "0.005939685383594867\n",
      "0.005966964089433863\n",
      "0.005605511050010116\n",
      "0.0055932331560699594\n",
      "0.005733396073950935\n",
      "0.005612710783407144\n",
      "0.005682012657299741\n",
      "0.005631758930629644\n",
      "0.005813346214549601\n",
      "0.0055317490222288835\n",
      "0.0055305300516081835\n",
      "0.005618372757741491\n",
      "0.005524587696201293\n",
      "0.005407386449001121\n",
      "0.0056189067234697415\n",
      "0.005366603704920793\n",
      "0.005428854255387702\n",
      "0.005453183664674279\n",
      "0.005366896339482127\n",
      "0.005416389427723222\n",
      "0.005606931708330888\n",
      "0.005498916486055717\n",
      "0.005474633215109987\n",
      "0.005474037564033049\n",
      "0.005710380967973675\n",
      "0.005538460556327925\n",
      "0.005475337910769911\n",
      "0.005242412130239357\n",
      "0.005304600114946234\n",
      "0.005184972984242197\n",
      "0.0053327550644165075\n",
      "0.005270049337390806\n",
      "0.0054913676499079005\n",
      "0.005311991439597064\n",
      "0.00532281988479732\n",
      "0.005390249286259176\n",
      "0.005223460298417984\n",
      "0.005180605953724536\n",
      "0.005236242900955539\n",
      "0.005199308850909788\n",
      "0.005520809697747476\n",
      "0.005081078551522456\n",
      "0.005071213140846004\n",
      "0.005190229546820241\n",
      "0.005337230243910562\n",
      "0.005156349376426121\n",
      "0.004979188038670267\n",
      "0.005027733694026701\n",
      "0.005297078283397199\n",
      "0.0052659961223133905\n",
      "0.005005771733251715\n",
      "0.005156645567019649\n",
      "0.004960273707700077\n",
      "0.00526886868661634\n",
      "0.004925703822174122\n",
      "0.004979281909782501\n",
      "0.004969248829697232\n",
      "0.005070173061289468\n",
      "0.0050899249423293855\n",
      "0.005002768823968703\n",
      "0.00484729224936699\n",
      "0.005127614772246583\n",
      "0.004869871978182894\n",
      "0.00487991591390441\n",
      "0.004866042378093408\n",
      "0.004979005789261926\n",
      "0.004975937244623851\n",
      "0.004921888690912629\n",
      "0.004823409731107229\n",
      "0.004895243344913881\n",
      "0.0048759970559937044\n",
      "0.004759069714182601\n",
      "0.004914704293220085\n",
      "0.00485840957621537\n",
      "0.004918088097403992\n",
      "0.004862653205894197\n",
      "0.005124282396418441\n",
      "0.004784813061888319\n",
      "0.004979070233662206\n",
      "0.005047933788976715\n",
      "0.004824123387766311\n",
      "0.005050847916214487\n",
      "0.004824893546410385\n",
      "0.004892196982129665\n",
      "0.004918771125407679\n",
      "0.004829944626528453\n",
      "0.0048009585951071\n",
      "0.005183915563201639\n",
      "0.004868570145303243\n",
      "0.005105187046192936\n",
      "0.004824775907296586\n",
      "0.004838122267223291\n",
      "0.004977860053580434\n",
      "0.0048827139017776616\n",
      "0.004913448214973684\n",
      "0.004846185428728535\n",
      "0.005094230928075247\n",
      "0.004925404633870291\n",
      "0.004769340847940097\n",
      "0.004756276710387236\n",
      "0.0048621750623108395\n",
      "0.004979907265898466\n",
      "0.004906707451027202\n",
      "0.004807198418303527\n",
      "0.00525620314763154\n",
      "0.004949388850624021\n",
      "0.00489770775970971\n",
      "0.004753176541427051\n",
      "0.004826191526039511\n",
      "0.005641537572521888\n",
      "0.005104205708287858\n",
      "0.004966972154121454\n",
      "0.004709557449038152\n",
      "0.004804282204682996\n",
      "0.004770836838839644\n",
      "0.004862256786959517\n",
      "0.004790996243740831\n",
      "0.004856935392940063\n",
      "0.004742459466685964\n",
      "0.004782939294817958\n",
      "0.004743811339273812\n",
      "0.0047027949450396305\n",
      "0.0047603812816280535\n",
      "0.004792989857103465\n",
      "0.004766947122721177\n",
      "0.0047150038040718765\n",
      "0.004768974243423477\n",
      "0.004834406545751198\n",
      "0.004698452128017351\n",
      "0.004668304694544313\n",
      "0.0048970751828297365\n",
      "0.004660359187836632\n",
      "0.004731521315071214\n",
      "0.004848481140557436\n",
      "0.004840556976822648\n",
      "0.004913327157962251\n",
      "0.004857919650366674\n",
      "0.0047337345187315255\n",
      "0.0050924263621182735\n",
      "0.004717768852476839\n",
      "0.004762793218448462\n",
      "0.004740591559922092\n",
      "0.004795443360904256\n",
      "0.004794919789392943\n",
      "0.005081287538063099\n",
      "0.004805668868266205\n",
      "0.004770316613233236\n",
      "0.004680669972260234\n",
      "0.004800110587743313\n",
      "0.004716578418986006\n",
      "0.0047595214118742206\n",
      "0.004835836743622941\n",
      "0.004790501495730554\n",
      "0.004819957364039371\n",
      "0.004748955780925605\n",
      "0.004717959826341198\n",
      "0.004694221583334293\n",
      "0.004789016316719697\n",
      "0.004862174893223951\n",
      "0.004735684098586409\n",
      "0.004739602852574489\n",
      "0.005110866904554754\n",
      "0.004839301600533105\n",
      "0.004809384100810234\n",
      "0.00579713957947991\n",
      "0.004683104912044136\n",
      "0.004884591521250945\n",
      "0.0048334209146774654\n",
      "0.004681816609097576\n",
      "0.0047027641616777405\n",
      "0.00513915967721001\n",
      "0.004683448816364793\n",
      "0.0046756557181734\n",
      "0.004720725264105823\n",
      "0.004588207646755221\n",
      "0.005022069498434804\n",
      "0.0047920765099166715\n",
      "0.0049003650012078605\n",
      "0.004786665658850215\n",
      "0.004855726938111716\n",
      "0.0047448679088616585\n",
      "0.004699835719660722\n",
      "0.004878211959029053\n",
      "0.005147762656962044\n",
      "0.004756557573359781\n",
      "0.004717621405339642\n",
      "0.004799682624892794\n",
      "0.004643217766892256\n",
      "0.004692041220494611\n",
      "0.004774389549146781\n",
      "0.004764164135935744\n",
      "0.004904956735552639\n",
      "0.004888272433022962\n",
      "0.004660605001583852\n",
      "0.004953260502012647\n",
      "0.004699939870814279\n",
      "0.004916340679696669\n",
      "0.004739894158729818\n",
      "0.004699125448339381\n",
      "0.004986813518899965\n",
      "0.004856273093855897\n",
      "0.004688991693141774\n",
      "0.00469287702686069\n",
      "0.005080806302472133\n",
      "0.004698070169623008\n",
      "0.004878800044333538\n",
      "0.0046185210644985545\n",
      "0.004786683797734865\n",
      "0.005043761950636089\n",
      "0.004846641056722381\n",
      "0.005101568114787221\n",
      "0.004806645297860249\n",
      "0.004675148992059578\n",
      "0.004958697362098303\n",
      "0.005109652191473861\n",
      "0.0048367834222149825\n",
      "0.004740987701365971\n",
      "0.004981191160881635\n",
      "0.004793695098198157\n",
      "0.004665719840778006\n",
      "0.004632344095472307\n",
      "0.004733730750964081\n",
      "0.004679516906781166\n",
      "0.004817302160154779\n",
      "0.004791471170101358\n",
      "0.004845383416790672\n",
      "0.004669571300699003\n",
      "0.004830796285237834\n",
      "0.004878554876074256\n",
      "0.004732229529989586\n",
      "0.004657690383256022\n",
      "0.004843078970804609\n",
      "0.004665785021315652\n",
      "0.004611348745704802\n",
      "0.0047224048258559664\n",
      "0.004841272849286214\n",
      "0.004693468904293188\n",
      "0.004784951325433948\n",
      "0.0047615105588285815\n",
      "0.004674150193648608\n",
      "0.004654229997574086\n",
      "0.00487056077126363\n",
      "0.004941529683349263\n",
      "0.004765393357017374\n",
      "0.0050066426128369595\n",
      "0.004699417664484292\n",
      "0.005331581268879405\n",
      "0.004636444542857793\n",
      "0.004741139759410453\n",
      "0.0046881997806875455\n",
      "0.004679685643313153\n",
      "0.004763882643372142\n",
      "0.004644785567858435\n",
      "0.004643761552752119\n",
      "0.004663734145451848\n",
      "0.004659273330866031\n",
      "0.004765077919103345\n",
      "0.004709885551053978\n",
      "0.005025505671006457\n",
      "0.0046567802480707386\n",
      "0.0047002016975096605\n"
     ]
    },
    {
     "ename": "KeyboardInterrupt",
     "evalue": "ignored",
     "output_type": "error",
     "traceback": [
      "\u001b[0;31m---------------------------------------------------------------------------\u001b[0m",
      "\u001b[0;31mKeyboardInterrupt\u001b[0m                         Traceback (most recent call last)",
      "\u001b[0;32m<ipython-input-39-5c921dbe1af6>\u001b[0m in \u001b[0;36m<module>\u001b[0;34m()\u001b[0m\n\u001b[1;32m     10\u001b[0m     \u001b[0mnet\u001b[0m\u001b[0;34m.\u001b[0m\u001b[0msgd_train\u001b[0m\u001b[0;34m(\u001b[0m\u001b[0mX\u001b[0m\u001b[0;34m,\u001b[0m \u001b[0mY\u001b[0m\u001b[0;34m,\u001b[0m \u001b[0mtau\u001b[0m \u001b[0;34m=\u001b[0m \u001b[0;36m.1\u001b[0m\u001b[0;34m,\u001b[0m \u001b[0mbatch\u001b[0m \u001b[0;34m=\u001b[0m \u001b[0;36m1\u001b[0m\u001b[0;34m,\u001b[0m \u001b[0mepochs\u001b[0m \u001b[0;34m=\u001b[0m \u001b[0;36m1\u001b[0m\u001b[0;34m,\u001b[0m \u001b[0mdisp\u001b[0m \u001b[0;34m=\u001b[0m \u001b[0;32mFalse\u001b[0m\u001b[0;34m)\u001b[0m\u001b[0;34m\u001b[0m\u001b[0;34m\u001b[0m\u001b[0m\n\u001b[1;32m     11\u001b[0m     \u001b[0;32mif\u001b[0m \u001b[0mi\u001b[0m\u001b[0;34m%\u001b[0m\u001b[0;36m10\u001b[0m \u001b[0;34m==\u001b[0m \u001b[0;36m0\u001b[0m\u001b[0;34m:\u001b[0m\u001b[0;34m\u001b[0m\u001b[0;34m\u001b[0m\u001b[0m\n\u001b[0;32m---> 12\u001b[0;31m         \u001b[0mtest\u001b[0m \u001b[0;34m=\u001b[0m \u001b[0mnet\u001b[0m\u001b[0;34m.\u001b[0m\u001b[0mtest\u001b[0m\u001b[0;34m(\u001b[0m\u001b[0mX_test\u001b[0m\u001b[0;34m,\u001b[0m \u001b[0mY_test\u001b[0m\u001b[0;34m)\u001b[0m\u001b[0;34m\u001b[0m\u001b[0;34m\u001b[0m\u001b[0m\n\u001b[0m\u001b[1;32m     13\u001b[0m         \u001b[0mtrain\u001b[0m \u001b[0;34m=\u001b[0m \u001b[0mnet\u001b[0m\u001b[0;34m.\u001b[0m\u001b[0mtest\u001b[0m\u001b[0;34m(\u001b[0m\u001b[0mX\u001b[0m\u001b[0;34m,\u001b[0m \u001b[0mY\u001b[0m\u001b[0;34m)\u001b[0m\u001b[0;34m\u001b[0m\u001b[0;34m\u001b[0m\u001b[0m\n\u001b[1;32m     14\u001b[0m         \u001b[0mtest_loss\u001b[0m\u001b[0;34m.\u001b[0m\u001b[0mappend\u001b[0m\u001b[0;34m(\u001b[0m\u001b[0mtest\u001b[0m\u001b[0;34m)\u001b[0m\u001b[0;34m\u001b[0m\u001b[0;34m\u001b[0m\u001b[0m\n",
      "\u001b[0;32m<ipython-input-18-eea51fa9b9f2>\u001b[0m in \u001b[0;36mtest\u001b[0;34m(self, X_t, Y_t)\u001b[0m\n\u001b[1;32m     60\u001b[0m     \u001b[0;32mdef\u001b[0m \u001b[0mtest\u001b[0m\u001b[0;34m(\u001b[0m\u001b[0mself\u001b[0m\u001b[0;34m,\u001b[0m \u001b[0mX_t\u001b[0m\u001b[0;34m,\u001b[0m \u001b[0mY_t\u001b[0m\u001b[0;34m)\u001b[0m\u001b[0;34m:\u001b[0m\u001b[0;34m\u001b[0m\u001b[0;34m\u001b[0m\u001b[0m\n\u001b[1;32m     61\u001b[0m         \u001b[0mts\u001b[0m \u001b[0;34m=\u001b[0m \u001b[0mX_t\u001b[0m\u001b[0;34m.\u001b[0m\u001b[0mshape\u001b[0m\u001b[0;34m[\u001b[0m\u001b[0;36m0\u001b[0m\u001b[0;34m]\u001b[0m\u001b[0;34m\u001b[0m\u001b[0;34m\u001b[0m\u001b[0m\n\u001b[0;32m---> 62\u001b[0;31m         \u001b[0;32mreturn\u001b[0m \u001b[0mnp\u001b[0m\u001b[0;34m.\u001b[0m\u001b[0mmean\u001b[0m\u001b[0;34m(\u001b[0m\u001b[0;34m[\u001b[0m\u001b[0mself\u001b[0m\u001b[0;34m.\u001b[0m\u001b[0mloss\u001b[0m\u001b[0;34m(\u001b[0m\u001b[0mX_t\u001b[0m\u001b[0;34m[\u001b[0m\u001b[0mi\u001b[0m\u001b[0;34m]\u001b[0m\u001b[0;34m,\u001b[0m \u001b[0mY_t\u001b[0m\u001b[0;34m[\u001b[0m\u001b[0mi\u001b[0m\u001b[0;34m]\u001b[0m\u001b[0;34m)\u001b[0m \u001b[0;32mfor\u001b[0m \u001b[0mi\u001b[0m \u001b[0;32min\u001b[0m \u001b[0mrange\u001b[0m\u001b[0;34m(\u001b[0m\u001b[0mts\u001b[0m\u001b[0;34m)\u001b[0m\u001b[0;34m]\u001b[0m\u001b[0;34m)\u001b[0m\u001b[0;34m\u001b[0m\u001b[0;34m\u001b[0m\u001b[0m\n\u001b[0m\u001b[1;32m     63\u001b[0m     \u001b[0;32mdef\u001b[0m \u001b[0mgen_sample\u001b[0m\u001b[0;34m(\u001b[0m\u001b[0mself\u001b[0m\u001b[0;34m,\u001b[0m \u001b[0ms\u001b[0m \u001b[0;34m=\u001b[0m \u001b[0;36m1\u001b[0m\u001b[0;34m)\u001b[0m\u001b[0;34m:\u001b[0m\u001b[0;34m\u001b[0m\u001b[0;34m\u001b[0m\u001b[0m\n\u001b[1;32m     64\u001b[0m         \u001b[0;32mif\u001b[0m \u001b[0ms\u001b[0m\u001b[0;34m==\u001b[0m\u001b[0;36m1\u001b[0m\u001b[0;34m:\u001b[0m\u001b[0;34m\u001b[0m\u001b[0;34m\u001b[0m\u001b[0m\n",
      "\u001b[0;32m<ipython-input-18-eea51fa9b9f2>\u001b[0m in \u001b[0;36m<listcomp>\u001b[0;34m(.0)\u001b[0m\n\u001b[1;32m     60\u001b[0m     \u001b[0;32mdef\u001b[0m \u001b[0mtest\u001b[0m\u001b[0;34m(\u001b[0m\u001b[0mself\u001b[0m\u001b[0;34m,\u001b[0m \u001b[0mX_t\u001b[0m\u001b[0;34m,\u001b[0m \u001b[0mY_t\u001b[0m\u001b[0;34m)\u001b[0m\u001b[0;34m:\u001b[0m\u001b[0;34m\u001b[0m\u001b[0;34m\u001b[0m\u001b[0m\n\u001b[1;32m     61\u001b[0m         \u001b[0mts\u001b[0m \u001b[0;34m=\u001b[0m \u001b[0mX_t\u001b[0m\u001b[0;34m.\u001b[0m\u001b[0mshape\u001b[0m\u001b[0;34m[\u001b[0m\u001b[0;36m0\u001b[0m\u001b[0;34m]\u001b[0m\u001b[0;34m\u001b[0m\u001b[0;34m\u001b[0m\u001b[0m\n\u001b[0;32m---> 62\u001b[0;31m         \u001b[0;32mreturn\u001b[0m \u001b[0mnp\u001b[0m\u001b[0;34m.\u001b[0m\u001b[0mmean\u001b[0m\u001b[0;34m(\u001b[0m\u001b[0;34m[\u001b[0m\u001b[0mself\u001b[0m\u001b[0;34m.\u001b[0m\u001b[0mloss\u001b[0m\u001b[0;34m(\u001b[0m\u001b[0mX_t\u001b[0m\u001b[0;34m[\u001b[0m\u001b[0mi\u001b[0m\u001b[0;34m]\u001b[0m\u001b[0;34m,\u001b[0m \u001b[0mY_t\u001b[0m\u001b[0;34m[\u001b[0m\u001b[0mi\u001b[0m\u001b[0;34m]\u001b[0m\u001b[0;34m)\u001b[0m \u001b[0;32mfor\u001b[0m \u001b[0mi\u001b[0m \u001b[0;32min\u001b[0m \u001b[0mrange\u001b[0m\u001b[0;34m(\u001b[0m\u001b[0mts\u001b[0m\u001b[0;34m)\u001b[0m\u001b[0;34m]\u001b[0m\u001b[0;34m)\u001b[0m\u001b[0;34m\u001b[0m\u001b[0;34m\u001b[0m\u001b[0m\n\u001b[0m\u001b[1;32m     63\u001b[0m     \u001b[0;32mdef\u001b[0m \u001b[0mgen_sample\u001b[0m\u001b[0;34m(\u001b[0m\u001b[0mself\u001b[0m\u001b[0;34m,\u001b[0m \u001b[0ms\u001b[0m \u001b[0;34m=\u001b[0m \u001b[0;36m1\u001b[0m\u001b[0;34m)\u001b[0m\u001b[0;34m:\u001b[0m\u001b[0;34m\u001b[0m\u001b[0;34m\u001b[0m\u001b[0m\n\u001b[1;32m     64\u001b[0m         \u001b[0;32mif\u001b[0m \u001b[0ms\u001b[0m\u001b[0;34m==\u001b[0m\u001b[0;36m1\u001b[0m\u001b[0;34m:\u001b[0m\u001b[0;34m\u001b[0m\u001b[0;34m\u001b[0m\u001b[0m\n",
      "\u001b[0;32m<ipython-input-18-eea51fa9b9f2>\u001b[0m in \u001b[0;36mloss\u001b[0;34m(self, x, y)\u001b[0m\n\u001b[1;32m     11\u001b[0m         \u001b[0;32mreturn\u001b[0m \u001b[0mnp\u001b[0m\u001b[0;34m.\u001b[0m\u001b[0mmean\u001b[0m\u001b[0;34m(\u001b[0m\u001b[0;34m[\u001b[0m\u001b[0mn\u001b[0m\u001b[0;34m.\u001b[0m\u001b[0mforward\u001b[0m\u001b[0;34m(\u001b[0m\u001b[0mx\u001b[0m\u001b[0;34m)\u001b[0m \u001b[0;32mfor\u001b[0m \u001b[0mn\u001b[0m \u001b[0;32min\u001b[0m \u001b[0mself\u001b[0m\u001b[0;34m.\u001b[0m\u001b[0mneurons\u001b[0m\u001b[0;34m]\u001b[0m\u001b[0;34m)\u001b[0m\u001b[0;34m\u001b[0m\u001b[0;34m\u001b[0m\u001b[0m\n\u001b[1;32m     12\u001b[0m     \u001b[0;32mdef\u001b[0m \u001b[0mloss\u001b[0m\u001b[0;34m(\u001b[0m\u001b[0mself\u001b[0m\u001b[0;34m,\u001b[0m \u001b[0mx\u001b[0m\u001b[0;34m,\u001b[0m \u001b[0my\u001b[0m\u001b[0;34m)\u001b[0m\u001b[0;34m:\u001b[0m\u001b[0;34m\u001b[0m\u001b[0;34m\u001b[0m\u001b[0m\n\u001b[0;32m---> 13\u001b[0;31m         \u001b[0;32mreturn\u001b[0m \u001b[0;36m.5\u001b[0m\u001b[0;34m*\u001b[0m\u001b[0;34m(\u001b[0m\u001b[0mself\u001b[0m\u001b[0;34m.\u001b[0m\u001b[0moutput\u001b[0m\u001b[0;34m(\u001b[0m\u001b[0mx\u001b[0m\u001b[0;34m)\u001b[0m \u001b[0;34m-\u001b[0m \u001b[0my\u001b[0m\u001b[0;34m)\u001b[0m\u001b[0;34m**\u001b[0m\u001b[0;36m2\u001b[0m\u001b[0;34m\u001b[0m\u001b[0;34m\u001b[0m\u001b[0m\n\u001b[0m\u001b[1;32m     14\u001b[0m     \u001b[0;32mdef\u001b[0m \u001b[0mgrad\u001b[0m\u001b[0;34m(\u001b[0m\u001b[0mself\u001b[0m\u001b[0;34m,\u001b[0m \u001b[0mx\u001b[0m\u001b[0;34m,\u001b[0m \u001b[0my\u001b[0m\u001b[0;34m)\u001b[0m\u001b[0;34m:\u001b[0m\u001b[0;34m\u001b[0m\u001b[0;34m\u001b[0m\u001b[0m\n\u001b[1;32m     15\u001b[0m         \u001b[0md\u001b[0m \u001b[0;34m=\u001b[0m \u001b[0;34m(\u001b[0m\u001b[0mself\u001b[0m\u001b[0;34m.\u001b[0m\u001b[0moutput\u001b[0m\u001b[0;34m(\u001b[0m\u001b[0mx\u001b[0m\u001b[0;34m)\u001b[0m \u001b[0;34m-\u001b[0m \u001b[0my\u001b[0m\u001b[0;34m)\u001b[0m\u001b[0;34m\u001b[0m\u001b[0;34m\u001b[0m\u001b[0m\n",
      "\u001b[0;32m<ipython-input-18-eea51fa9b9f2>\u001b[0m in \u001b[0;36moutput\u001b[0;34m(self, x)\u001b[0m\n\u001b[1;32m      9\u001b[0m         \u001b[0;32mreturn\u001b[0m\u001b[0;34m\u001b[0m\u001b[0;34m\u001b[0m\u001b[0m\n\u001b[1;32m     10\u001b[0m     \u001b[0;32mdef\u001b[0m \u001b[0moutput\u001b[0m\u001b[0;34m(\u001b[0m\u001b[0mself\u001b[0m\u001b[0;34m,\u001b[0m \u001b[0mx\u001b[0m\u001b[0;34m)\u001b[0m\u001b[0;34m:\u001b[0m\u001b[0;34m\u001b[0m\u001b[0;34m\u001b[0m\u001b[0m\n\u001b[0;32m---> 11\u001b[0;31m         \u001b[0;32mreturn\u001b[0m \u001b[0mnp\u001b[0m\u001b[0;34m.\u001b[0m\u001b[0mmean\u001b[0m\u001b[0;34m(\u001b[0m\u001b[0;34m[\u001b[0m\u001b[0mn\u001b[0m\u001b[0;34m.\u001b[0m\u001b[0mforward\u001b[0m\u001b[0;34m(\u001b[0m\u001b[0mx\u001b[0m\u001b[0;34m)\u001b[0m \u001b[0;32mfor\u001b[0m \u001b[0mn\u001b[0m \u001b[0;32min\u001b[0m \u001b[0mself\u001b[0m\u001b[0;34m.\u001b[0m\u001b[0mneurons\u001b[0m\u001b[0;34m]\u001b[0m\u001b[0;34m)\u001b[0m\u001b[0;34m\u001b[0m\u001b[0;34m\u001b[0m\u001b[0m\n\u001b[0m\u001b[1;32m     12\u001b[0m     \u001b[0;32mdef\u001b[0m \u001b[0mloss\u001b[0m\u001b[0;34m(\u001b[0m\u001b[0mself\u001b[0m\u001b[0;34m,\u001b[0m \u001b[0mx\u001b[0m\u001b[0;34m,\u001b[0m \u001b[0my\u001b[0m\u001b[0;34m)\u001b[0m\u001b[0;34m:\u001b[0m\u001b[0;34m\u001b[0m\u001b[0;34m\u001b[0m\u001b[0m\n\u001b[1;32m     13\u001b[0m         \u001b[0;32mreturn\u001b[0m \u001b[0;36m.5\u001b[0m\u001b[0;34m*\u001b[0m\u001b[0;34m(\u001b[0m\u001b[0mself\u001b[0m\u001b[0;34m.\u001b[0m\u001b[0moutput\u001b[0m\u001b[0;34m(\u001b[0m\u001b[0mx\u001b[0m\u001b[0;34m)\u001b[0m \u001b[0;34m-\u001b[0m \u001b[0my\u001b[0m\u001b[0;34m)\u001b[0m\u001b[0;34m**\u001b[0m\u001b[0;36m2\u001b[0m\u001b[0;34m\u001b[0m\u001b[0;34m\u001b[0m\u001b[0m\n",
      "\u001b[0;32m/usr/local/lib/python3.6/dist-packages/numpy/core/fromnumeric.py\u001b[0m in \u001b[0;36mmean\u001b[0;34m(a, axis, dtype, out, keepdims)\u001b[0m\n\u001b[1;32m   2955\u001b[0m \u001b[0;34m\u001b[0m\u001b[0m\n\u001b[1;32m   2956\u001b[0m     return _methods._mean(a, axis=axis, dtype=dtype,\n\u001b[0;32m-> 2957\u001b[0;31m                           out=out, **kwargs)\n\u001b[0m\u001b[1;32m   2958\u001b[0m \u001b[0;34m\u001b[0m\u001b[0m\n\u001b[1;32m   2959\u001b[0m \u001b[0;34m\u001b[0m\u001b[0m\n",
      "\u001b[0;32m/usr/local/lib/python3.6/dist-packages/numpy/core/_methods.py\u001b[0m in \u001b[0;36m_mean\u001b[0;34m(a, axis, dtype, out, keepdims)\u001b[0m\n\u001b[1;32m     51\u001b[0m     \u001b[0;32mreturn\u001b[0m \u001b[0mitems\u001b[0m\u001b[0;34m\u001b[0m\u001b[0;34m\u001b[0m\u001b[0m\n\u001b[1;32m     52\u001b[0m \u001b[0;34m\u001b[0m\u001b[0m\n\u001b[0;32m---> 53\u001b[0;31m \u001b[0;32mdef\u001b[0m \u001b[0m_mean\u001b[0m\u001b[0;34m(\u001b[0m\u001b[0ma\u001b[0m\u001b[0;34m,\u001b[0m \u001b[0maxis\u001b[0m\u001b[0;34m=\u001b[0m\u001b[0;32mNone\u001b[0m\u001b[0;34m,\u001b[0m \u001b[0mdtype\u001b[0m\u001b[0;34m=\u001b[0m\u001b[0;32mNone\u001b[0m\u001b[0;34m,\u001b[0m \u001b[0mout\u001b[0m\u001b[0;34m=\u001b[0m\u001b[0;32mNone\u001b[0m\u001b[0;34m,\u001b[0m \u001b[0mkeepdims\u001b[0m\u001b[0;34m=\u001b[0m\u001b[0;32mFalse\u001b[0m\u001b[0;34m)\u001b[0m\u001b[0;34m:\u001b[0m\u001b[0;34m\u001b[0m\u001b[0;34m\u001b[0m\u001b[0m\n\u001b[0m\u001b[1;32m     54\u001b[0m     \u001b[0marr\u001b[0m \u001b[0;34m=\u001b[0m \u001b[0masanyarray\u001b[0m\u001b[0;34m(\u001b[0m\u001b[0ma\u001b[0m\u001b[0;34m)\u001b[0m\u001b[0;34m\u001b[0m\u001b[0;34m\u001b[0m\u001b[0m\n\u001b[1;32m     55\u001b[0m \u001b[0;34m\u001b[0m\u001b[0m\n",
      "\u001b[0;31mKeyboardInterrupt\u001b[0m: "
     ]
    }
   ],
   "source": [
    "net = Network(5)\n",
    "net.small_sphere(0.05)\n",
    "\n",
    "test_loss = []\n",
    "train_loss = []\n",
    "test = net.test(X_test, Y_test)\n",
    "print('init', test)\n",
    "for i in range(5000):\n",
    "    X, Y = gen_net.gen_sample(100)\n",
    "    net.sgd_train(X, Y, tau = .1, batch = 1, epochs = 1, disp = False)\n",
    "    if i%10 == 0:\n",
    "        test = net.test(X_test, Y_test)\n",
    "        train = net.test(X, Y)\n",
    "        test_loss.append(test)\n",
    "        train_loss.append(train)\n",
    "        print(test)"
   ]
  },
  {
   "cell_type": "code",
   "execution_count": 0,
   "metadata": {
    "colab": {
     "base_uri": "https://localhost:8080/",
     "height": 393
    },
    "colab_type": "code",
    "id": "o-Xa7vNFcacq",
    "outputId": "938ce058-a8ae-4e97-fdcb-ed6707a18cf7"
   },
   "outputs": [
    {
     "data": {
      "text/plain": [
       "Text(0.5,1,'Training a ReLU neural network with 5 units (M = 10)')"
      ]
     },
     "execution_count": 40,
     "metadata": {
      "tags": []
     },
     "output_type": "execute_result"
    },
    {
     "data": {
      "image/png": "[encoded data removed]",
      "text/plain": [
       "<matplotlib.figure.Figure at 0x7f7408531ac8>"
      ]
     },
     "metadata": {
      "tags": []
     },
     "output_type": "display_data"
    }
   ],
   "source": [
    "plt.figure()\n",
    "plt.plot(train_loss)\n",
    "plt.plot(test_loss)\n",
    "plt.legend(['train', 'test'])\n",
    "plt.xlabel('iterations (x1000 samples)')\n",
    "plt.ylabel('loss')\n",
    "plt.yscale('log')\n",
    "plt.title('Training a ReLU neural network with 5 units (M = 10)')"
   ]
  },
  {
   "cell_type": "markdown",
   "metadata": {
    "colab_type": "text",
    "id": "4QC7UTu1aVHd"
   },
   "source": [
    "Train it using SGD"
   ]
  },
  {
   "cell_type": "code",
   "execution_count": 0,
   "metadata": {
    "colab": {},
    "colab_type": "code",
    "id": "g6Qq60vzaVHf",
    "outputId": "b38fabea-7f7f-4efc-a1c7-8ff5e31bec0f",
    "scrolled": true
   },
   "outputs": [
    {
     "name": "stdout",
     "output_type": "stream",
     "text": [
      "epoch 0 : 0.149020305273103\n"
     ]
    },
    {
     "data": {
      "text/plain": [
       "0.149020305273103"
      ]
     },
     "execution_count": 217,
     "metadata": {
      "tags": []
     },
     "output_type": "execute_result"
    }
   ],
   "source": [
    "#net.sgd_train(X, Y, tau = 0.1, batch = 2, epochs = 1)"
   ]
  },
  {
   "cell_type": "markdown",
   "metadata": {
    "colab_type": "text",
    "id": "bH5uoU9baVHm"
   },
   "source": [
    "Make several experiments for different values of $m$"
   ]
  },
  {
   "cell_type": "code",
   "execution_count": 0,
   "metadata": {
    "colab": {
     "base_uri": "https://localhost:8080/",
     "height": 51
    },
    "colab_type": "code",
    "id": "veJVlUd-aVHn",
    "outputId": "00f2941d-3d2d-485d-8ea5-73a3cf6ad5ec"
   },
   "outputs": [
    {
     "data": {
      "text/plain": [
       "array([ 3.98107171,  5.14175183,  6.64082785,  8.57695899, 11.07756851,\n",
       "       14.30722989, 18.47849797, 23.86589787, 30.8239924 , 39.81071706])"
      ]
     },
     "execution_count": 44,
     "metadata": {
      "tags": []
     },
     "output_type": "execute_result"
    }
   ],
   "source": [
    "np.logspace(0.6, 1.6, 10, base = 10.)"
   ]
  },
  {
   "cell_type": "code",
   "execution_count": 0,
   "metadata": {
    "colab": {
     "base_uri": "https://localhost:8080/",
     "height": 3043
    },
    "colab_type": "code",
    "id": "ng5XU6hjcF0x",
    "outputId": "d5d97fd5-16a8-4abb-ee0a-104edf927f87",
    "scrolled": true
   },
   "outputs": [
    {
     "name": "stderr",
     "output_type": "stream",
     "text": [
      "\n",
      "\n",
      "\n",
      "\n",
      "  0%|          | 0/5 [00:00<?, ?it/s]\u001b[A\u001b[A\u001b[A\u001b[A"
     ]
    },
    {
     "name": "stdout",
     "output_type": "stream",
     "text": [
      "train 0.010221985103727184\n",
      "test 0.010383832286606815\n",
      "3\n",
      "train 0.0015687730785113097\n",
      "test 0.0016043711511006763\n",
      "5\n",
      "train 0.002957953144164164\n",
      "test 0.0029268633394737577\n",
      "6\n",
      "train 0.0006705157179074098\n",
      "test 0.0006877161830213886\n",
      "8\n",
      "train 0.00013206058022016248\n",
      "test 0.00013012207454000092\n",
      "11\n",
      "train 2.7557442977344206e-05\n",
      "test 2.7992715577904022e-05\n",
      "14\n",
      "train 1.4057563768022054e-05\n",
      "test 1.3904165873687674e-05\n",
      "18\n",
      "train 2.6285672190129286e-05\n",
      "test 2.616891176808166e-05\n",
      "23\n",
      "train 0.00015333386768382102\n",
      "test 0.0001528309252999786\n",
      "30\n",
      "train 0.0001799618421056033\n"
     ]
    },
    {
     "name": "stderr",
     "output_type": "stream",
     "text": [
      "\n",
      "\n",
      "\n",
      "\n",
      " 20%|██        | 1/5 [04:10<16:43, 250.78s/it]\u001b[A\u001b[A\u001b[A\u001b[A"
     ]
    },
    {
     "name": "stdout",
     "output_type": "stream",
     "text": [
      "test 0.0001804032349162309\n",
      "39\n",
      "train 0.013287555627689929\n",
      "test 0.013682383628626628\n",
      "3\n",
      "train 0.006791759169820847\n",
      "test 0.00702585797039211\n",
      "5\n",
      "train 0.012267451827619241\n",
      "test 0.012391897773886319\n",
      "6\n",
      "train 0.00025441338970154766\n",
      "test 0.00026899499469578016\n",
      "8\n",
      "train 3.437528052705593e-05\n",
      "test 3.4116960545969434e-05\n",
      "11\n",
      "train 3.6175800538485286e-05\n",
      "test 3.525719455330933e-05\n",
      "14\n",
      "train 2.7204200883384955e-05\n",
      "test 2.6673732877015216e-05\n",
      "18\n",
      "train 5.197064700532733e-05\n",
      "test 5.3431763820572517e-05\n",
      "23\n",
      "train 0.00011908969308749045\n",
      "test 0.00011957316793531916\n",
      "30\n",
      "train 0.00010411332398138336\n"
     ]
    },
    {
     "name": "stderr",
     "output_type": "stream",
     "text": [
      "\n",
      "\n",
      "\n",
      "\n",
      " 40%|████      | 2/5 [08:21<12:31, 250.61s/it]\u001b[A\u001b[A\u001b[A\u001b[A"
     ]
    },
    {
     "name": "stdout",
     "output_type": "stream",
     "text": [
      "test 0.0001081911863231655\n",
      "39\n",
      "train 0.015155455345401475\n",
      "test 0.014878899386454125\n",
      "3\n",
      "train 0.004205268825034214\n",
      "test 0.00424778372893119\n",
      "5\n",
      "train 0.0033377234988774935\n",
      "test 0.0035084294007632216\n",
      "6\n",
      "train 0.0007988613900321198\n",
      "test 0.0008176851455744249\n",
      "8\n",
      "train 0.00299777651315611\n",
      "test 0.002972496015345557\n",
      "11\n",
      "train 3.2236457469014094e-05\n",
      "test 3.176286548014785e-05\n",
      "14\n",
      "train 0.0005513448024902703\n",
      "test 0.0005599572900161959\n",
      "18\n",
      "train 4.809924385652675e-05\n",
      "test 4.861295267800727e-05\n",
      "23\n",
      "train 0.00010156691841655602\n",
      "test 0.00010414862181704578\n",
      "30\n",
      "train 0.00018166231438947699\n"
     ]
    },
    {
     "name": "stderr",
     "output_type": "stream",
     "text": [
      "\n",
      "\n",
      "\n",
      "\n",
      " 60%|██████    | 3/5 [12:30<08:20, 250.34s/it]\u001b[A\u001b[A\u001b[A\u001b[A"
     ]
    },
    {
     "name": "stdout",
     "output_type": "stream",
     "text": [
      "test 0.00018250313095830048\n",
      "39\n",
      "train 0.010534519271098832\n",
      "test 0.010669408060565102\n",
      "3\n",
      "train 0.00417067145675745\n",
      "test 0.004149182474823742\n",
      "5\n",
      "train 0.01373165681112005\n",
      "test 0.014096316472232655\n",
      "6\n",
      "train 0.0004175197740190704\n",
      "test 0.0004229243393109298\n",
      "8\n",
      "train 0.0002816051075111442\n",
      "test 0.00027638228989379006\n",
      "11\n",
      "train 4.8060771270047785e-05\n",
      "test 4.81960976477003e-05\n",
      "14\n",
      "train 4.448215949343884e-05\n",
      "test 4.505696510932546e-05\n",
      "18\n",
      "train 5.4015559407144024e-05\n",
      "test 5.670707768989536e-05\n",
      "23\n",
      "train 9.48352486762616e-05\n",
      "test 9.634032916601312e-05\n",
      "30\n",
      "train 0.0002231962481494821\n"
     ]
    },
    {
     "name": "stderr",
     "output_type": "stream",
     "text": [
      "\n",
      "\n",
      "\n",
      "\n",
      " 80%|████████  | 4/5 [16:41<04:10, 250.35s/it]\u001b[A\u001b[A\u001b[A\u001b[A"
     ]
    },
    {
     "name": "stdout",
     "output_type": "stream",
     "text": [
      "test 0.00023136904094066385\n",
      "39\n",
      "train 0.005708033050590818\n",
      "test 0.005806784820279338\n",
      "3\n",
      "train 0.0057112110852300555\n",
      "test 0.005792185505365029\n",
      "5\n",
      "train 0.0024910284324290814\n",
      "test 0.0025565470067788285\n",
      "6\n",
      "train 0.0025187317721169257\n",
      "test 0.002651821189454819\n",
      "8\n",
      "train 3.299929663889436e-05\n",
      "test 3.354706976586918e-05\n",
      "11\n",
      "train 6.132324563305155e-05\n",
      "test 6.17976566261042e-05\n",
      "14\n",
      "train 8.538069870991978e-06\n",
      "test 8.590229861606837e-06\n",
      "18\n",
      "train 2.1564428871922194e-05\n",
      "test 2.196236329512851e-05\n",
      "23\n",
      "train 5.207094817310592e-05\n",
      "test 5.323775820136678e-05\n",
      "30\n",
      "train 7.605558818607808e-05\n"
     ]
    },
    {
     "name": "stderr",
     "output_type": "stream",
     "text": [
      "\n",
      "\n",
      "\n",
      "\n",
      "100%|██████████| 5/5 [20:51<00:00, 250.24s/it]\u001b[A\u001b[A\u001b[A\u001b[A\n",
      "\n",
      "\n",
      "\n",
      "\u001b[A\u001b[A\u001b[A\u001b[A"
     ]
    },
    {
     "name": "stdout",
     "output_type": "stream",
     "text": [
      "test 7.910045111434615e-05\n",
      "39\n"
     ]
    }
   ],
   "source": [
    "m_range = np.logspace(0.6, 1.6, 10, base = 10.)\n",
    "m_range = [int(b) for b in m_range]\n",
    "\n",
    "rep = 5\n",
    "losses = np.zeros((len(m_range), rep))\n",
    "\n",
    "for r in tqdm.tqdm(range(rep)):\n",
    "    gen_net = Network(M)\n",
    "    gen_net.small_sphere(2.)\n",
    "    Xt, Yt = gen_net.gen_sample(10000)\n",
    "    for mi in range(len(m_range)):\n",
    "        m = m_range[mi]\n",
    "        net = Network(m)\n",
    "        net.small_sphere(0.05)\n",
    "        X, Y = gen_net.gen_sample(100000)\n",
    "        train_loss = net.sgd_train(X, Y, tau = 0.2, batch = 1, epochs = 1, disp = False)\n",
    "        print('train', train_loss)\n",
    "        losses[mi, r] = net.test(Xt, Yt)\n",
    "        print('test', losses[mi, r])\n",
    "        net = []\n",
    "        print(m)"
   ]
  },
  {
   "cell_type": "code",
   "execution_count": 0,
   "metadata": {
    "colab": {
     "base_uri": "https://localhost:8080/",
     "height": 403
    },
    "colab_type": "code",
    "id": "BrLfNlrsaVHv",
    "outputId": "2e12d959-8c93-4ea1-a25c-d0875d5d4019"
   },
   "outputs": [
    {
     "data": {
      "image/png": "[encoded data removed]",
      "text/plain": [
       "<matplotlib.figure.Figure at 0x7f740773ba58>"
      ]
     },
     "metadata": {
      "tags": []
     },
     "output_type": "display_data"
    }
   ],
   "source": [
    "plt.figure(figsize = (10, 6))\n",
    "for i in range(rep):\n",
    "    plt.scatter(m_range, losses[:, i], c='g', alpha = 0.4)\n",
    "plt.plot(m_range, np.exp(np.mean(np.log(losses), axis = 1)), c='r')\n",
    "plt.yscale('log')\n",
    "plt.xscale('log')\n",
    "#plt.xlim((2.8, 105))\n",
    "plt.ylim((5e-6, 0.05))\n",
    "plt.xticks(m_range, m_range)\n",
    "plt.ylabel('test loss')\n",
    "plt.axvline(x=10, linestyle = '--', alpha = 0.6)\n",
    "plt.xlabel('number of particles')\n",
    "plt.title('Excess loss at convergence for a generative network with 10 particles in dimension 50 (ReLU)')\n",
    "plt.show()"
   ]
  },
  {
   "cell_type": "markdown",
   "metadata": {
    "colab_type": "text",
    "id": "1foEes8YaVHy"
   },
   "source": [
    "Write batch train function, reduce d, \"use fresh samples at each iteration\", sampling at test time"
   ]
  },
  {
   "cell_type": "code",
   "execution_count": 0,
   "metadata": {
    "colab": {},
    "colab_type": "code",
    "id": "hBAKEBl-aVH1"
   },
   "outputs": [],
   "source": []
  }
 ],
 "metadata": {
  "colab": {
   "name": "Relu convergence rate.ipynb",
   "provenance": [],
   "version": "0.3.2"
  },
  "kernelspec": {
   "display_name": "Python 3",
   "language": "python",
   "name": "python3"
  },
  "language_info": {
   "codemirror_mode": {
    "name": "ipython",
    "version": 3
   },
   "file_extension": ".py",
   "mimetype": "text/x-python",
   "name": "python",
   "nbconvert_exporter": "python",
   "pygments_lexer": "ipython3",
   "version": "3.7.0"
  }
 },
 "nbformat": 4,
 "nbformat_minor": 1
}
