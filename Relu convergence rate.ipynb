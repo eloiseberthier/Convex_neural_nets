{
 "cells": [
  {
   "cell_type": "code",
   "execution_count": 209,
   "metadata": {},
   "outputs": [],
   "source": [
    "import numpy as np\n",
    "import matplotlib.pyplot as plt\n",
    "np.random.seed(1)\n",
    "import tqdm"
   ]
  },
  {
   "cell_type": "markdown",
   "metadata": {},
   "source": [
    "Relu neurons"
   ]
  },
  {
   "cell_type": "code",
   "execution_count": 210,
   "metadata": {},
   "outputs": [],
   "source": [
    "d = 2 # dimension of space\n",
    "M = 5 # number of neurons for generation"
   ]
  },
  {
   "cell_type": "code",
   "execution_count": 211,
   "metadata": {},
   "outputs": [],
   "source": [
    "def relu(x):\n",
    "    if x >= 0:\n",
    "        return x\n",
    "    return 0"
   ]
  },
  {
   "cell_type": "code",
   "execution_count": 212,
   "metadata": {},
   "outputs": [],
   "source": [
    "def drelu(x):\n",
    "    if x >= 0:\n",
    "        return 1\n",
    "    return 0"
   ]
  },
  {
   "cell_type": "code",
   "execution_count": 213,
   "metadata": {},
   "outputs": [],
   "source": [
    "class Neuron:\n",
    "    def __init__(self):\n",
    "        a = np.random.normal()\n",
    "        w = np.random.normal(size = d)\n",
    "        b = np.random.normal()\n",
    "        norm = 1e-1 * np.linalg.norm(np.concatenate([np.array([a, b]), w]), 2)\n",
    "        self.a = a / norm\n",
    "        self.w = w / norm\n",
    "        self.b = b / norm\n",
    "    def set_weights(self, a, w, b):\n",
    "        self.a = a\n",
    "        self.w = w\n",
    "        self.b = b\n",
    "    def forward(self, x):\n",
    "        return self.a * relu(self.w.dot(x) + self.b)"
   ]
  },
  {
   "cell_type": "code",
   "execution_count": 214,
   "metadata": {},
   "outputs": [],
   "source": [
    "class Network:\n",
    "    def __init__(self, width):\n",
    "        self.width = width\n",
    "        self.neurons = [Neuron() for i in range(width)]\n",
    "    def output(self, x):\n",
    "        return np.mean([n.forward(x) for n in self.neurons])\n",
    "    def loss(self, x, y):\n",
    "        return .5*(self.output(x) - y)**2\n",
    "    def grad(self, x, y):\n",
    "        d = (self.output(x) - y)\n",
    "        s = np.array([relu(n.w.dot(x) + n.b) for n in self.neurons])\n",
    "        ds = np.array([drelu(n.w.dot(x) + n.b) for n in self.neurons])\n",
    "        ga = 1./self.width * d * s\n",
    "        gb = 1./self.width * d * np.array([self.neurons[i].a*ds[i] for i in range(self.width)])\n",
    "        gw = np.array([gb[i] * x for i in range(self.width)]) # shape m * d\n",
    "        return ga, gw, gb\n",
    "    def step(self, x, y, tau):\n",
    "        ga, gw, gb = self.grad(x, y)\n",
    "        for i in range(self.width):\n",
    "            nr = self.neurons[i]\n",
    "            a_new = nr.a - tau * ga[i]\n",
    "            w_new = nr.w - tau * gw[i]\n",
    "            b_new = nr.b - tau * gb[i]\n",
    "            nr.set_weights(a_new, w_new, b_new)\n",
    "    def batch_step(self, X, Y, tau):\n",
    "        ba = X.shape[0]\n",
    "        Ga, Gw, Gb = np.zeros((ba, self.width)), np.zeros((ba, self.width, d)), np.zeros((ba, self.width))\n",
    "        for i in range(ba):\n",
    "            Ga[i], Gw[i], Gb[i] = self.grad(X[i], Y[i])\n",
    "        ga, gw, gb = Ga.mean(axis = 0), Gw.mean(axis = 0), Gb.mean(axis = 0)\n",
    "        for i in range(self.width):\n",
    "            nr = self.neurons[i]\n",
    "            a_new = nr.a - tau * ga[i]\n",
    "            w_new = nr.w - tau * gw[i]\n",
    "            b_new = nr.b - tau * gb[i]\n",
    "            nr.set_weights(a_new, w_new, b_new)\n",
    "    def sgd_train(self, X, Y, tau, epochs, batch, disp = True):\n",
    "        for e in range(epochs):\n",
    "            pm = np.random.permutation(X.shape[0])\n",
    "            X = np.array([X[pm[i]] for i in range(X.shape[0])])\n",
    "            Y = np.array([Y[pm[i]] for i in range(Y.shape[0])])\n",
    "            if batch > 1:\n",
    "                nbatch = X.shape[0]//batch\n",
    "                subX = np.split(X, nbatch)\n",
    "                subY = np.split(Y, nbatch)\n",
    "                for s in range(len(subX)):\n",
    "                    self.batch_step(subX[s], subY[s], tau)\n",
    "            else:\n",
    "                for i in range(X.shape[0]):\n",
    "                    self.step(X[i], Y[i], tau)\n",
    "            loss = self.test(X, Y)\n",
    "            if disp:\n",
    "                print('epoch '+str(e)+' : '+str(loss))\n",
    "        return loss\n",
    "    def test(self, X_t, Y_t):\n",
    "        ts = X_t.shape[0]\n",
    "        return np.mean([self.loss(X_t[i], Y_t[i]) for i in range(ts)])\n",
    "    def gen_sample(self, s = 1):\n",
    "        if s==1:\n",
    "            X = np.random.normal(size = d)\n",
    "            Y = self.output(X)\n",
    "            return X, Y\n",
    "        else:\n",
    "            X = np.random.normal(size = (s, d))\n",
    "            Y = np.zeros(s)\n",
    "            for i in range(s):\n",
    "                Y[i] = self.output(X[i])\n",
    "            return X, Y"
   ]
  },
  {
   "cell_type": "code",
   "execution_count": 215,
   "metadata": {},
   "outputs": [],
   "source": [
    "gen_net = Network(M)"
   ]
  },
  {
   "cell_type": "markdown",
   "metadata": {},
   "source": [
    "Initialize new network with parameters on the sphere."
   ]
  },
  {
   "cell_type": "code",
   "execution_count": 216,
   "metadata": {},
   "outputs": [],
   "source": [
    "net = Network(20)\n",
    "X, Y = gen_net.gen_sample(5000)"
   ]
  },
  {
   "cell_type": "markdown",
   "metadata": {},
   "source": [
    "Train it using SGD"
   ]
  },
  {
   "cell_type": "code",
   "execution_count": 217,
   "metadata": {
    "scrolled": true
   },
   "outputs": [
    {
     "name": "stdout",
     "output_type": "stream",
     "text": [
      "epoch 0 : 0.149020305273103\n"
     ]
    },
    {
     "data": {
      "text/plain": [
       "0.149020305273103"
      ]
     },
     "execution_count": 217,
     "metadata": {},
     "output_type": "execute_result"
    }
   ],
   "source": [
    "net.sgd_train(X, Y, tau = 0.1, batch = 2, epochs = 1)"
   ]
  },
  {
   "cell_type": "markdown",
   "metadata": {},
   "source": [
    "Make several experiments for different values of $m$"
   ]
  },
  {
   "cell_type": "code",
   "execution_count": 218,
   "metadata": {},
   "outputs": [
    {
     "data": {
      "text/plain": [
       "array([  3.98107171,   5.01187234,   6.30957344,   7.94328235,\n",
       "        10.        ,  12.58925412,  15.84893192,  19.95262315,\n",
       "        25.11886432,  31.6227766 ,  39.81071706,  50.11872336,\n",
       "        63.09573445,  79.43282347, 100.        ])"
      ]
     },
     "execution_count": 218,
     "metadata": {},
     "output_type": "execute_result"
    }
   ],
   "source": [
    "np.logspace(0.6, 2.0, 15, base = 10.)"
   ]
  },
  {
   "cell_type": "code",
   "execution_count": 221,
   "metadata": {
    "scrolled": true
   },
   "outputs": [
    {
     "name": "stderr",
     "output_type": "stream",
     "text": [
      "\n",
      "\n",
      "\n",
      "  0%|          | 0/1 [00:00<?, ?it/s]\u001b[A\u001b[A\u001b[A"
     ]
    },
    {
     "name": "stdout",
     "output_type": "stream",
     "text": [
      "train 0.35810977455738147\n",
      "test 0.43944085491278434\n",
      "3\n",
      "train 0.020248989602253225\n",
      "test 0.02020614815246202\n",
      "4\n",
      "train 0.2751051225633012\n",
      "test 0.34369334886764896\n",
      "5\n",
      "train 0.021199814244007804\n",
      "test 0.022945476156522798\n",
      "6\n",
      "train 0.08423071477262202\n",
      "test 0.09381757113335042\n",
      "7\n",
      "train 0.0059929360385136245\n",
      "test 0.005126994192743836\n",
      "8\n",
      "train 0.05498290785977253\n",
      "test 0.06259369692898735\n",
      "9\n",
      "train 0.00321571946149148\n",
      "test 0.003126764811508682\n",
      "10\n",
      "train 0.0011464289617527303\n",
      "test 0.0009615524711321759\n",
      "11\n",
      "train 0.0012170329483965157\n",
      "test 0.0011012558966345249\n",
      "12\n",
      "train 0.004456056405406398\n",
      "test 0.004096810467217408\n",
      "13\n"
     ]
    },
    {
     "name": "stderr",
     "output_type": "stream",
     "text": [
      "\n",
      "\n",
      "\n",
      "100%|██████████| 1/1 [03:35<00:00, 215.22s/it]\u001b[A\u001b[A\u001b[A\n",
      "\n",
      "\n",
      "\u001b[A\u001b[A\u001b[A"
     ]
    },
    {
     "name": "stdout",
     "output_type": "stream",
     "text": [
      "train 0.00485472729832328\n",
      "test 0.005294374616414663\n",
      "14\n"
     ]
    }
   ],
   "source": [
    "#m_range = np.logspace(0.6, 2.0, 15, base = 10.)\n",
    "#m_range = [int(b) for b in m_range]\n",
    "\n",
    "m_range = range(3, 15)\n",
    "rep = 1\n",
    "losses = np.zeros((len(m_range), rep))\n",
    "\n",
    "for r in tqdm.tqdm(range(rep)):\n",
    "    gen_net = Network(M)\n",
    "    Xt, Yt = gen_net.gen_sample(1000)\n",
    "    for mi in range(len(m_range)):\n",
    "        m = m_range[mi]\n",
    "        net = Network(m)\n",
    "        X, Y = gen_net.gen_sample(100000)\n",
    "        train_loss = net.sgd_train(X, Y, tau = 0.1, batch = 4, epochs = 1, disp = False)\n",
    "        print('train', train_loss)\n",
    "        losses[mi, r] = net.test(Xt, Yt)\n",
    "        print('test', losses[mi, r])\n",
    "        net = []\n",
    "        print(m)"
   ]
  },
  {
   "cell_type": "code",
   "execution_count": 220,
   "metadata": {},
   "outputs": [
    {
     "data": {
      "image/png": "[encoded data removed]",
      "text/plain": [
       "<Figure size 720x432 with 1 Axes>"
      ]
     },
     "metadata": {
      "needs_background": "light"
     },
     "output_type": "display_data"
    }
   ],
   "source": [
    "plt.figure(figsize = (10, 6))\n",
    "for i in range(rep):\n",
    "    plt.scatter(m_range, losses[:, i], c='r', alpha = 0.4)\n",
    "plt.plot(m_range, np.exp(np.mean(np.log(losses), axis = 1)))\n",
    "plt.yscale('log')\n",
    "#plt.xscale('log')\n",
    "#plt.xlim((2.8, 105))\n",
    "#plt.ylim((1e-6, 1))\n",
    "plt.show()"
   ]
  },
  {
   "cell_type": "markdown",
   "metadata": {},
   "source": [
    "Write batch train function, reduce d, \"use fresh samples at each iteration\", sampling at test time"
   ]
  },
  {
   "cell_type": "code",
   "execution_count": null,
   "metadata": {},
   "outputs": [],
   "source": []
  }
 ],
 "metadata": {
  "kernelspec": {
   "display_name": "Python 3",
   "language": "python",
   "name": "python3"
  },
  "language_info": {
   "codemirror_mode": {
    "name": "ipython",
    "version": 3
   },
   "file_extension": ".py",
   "mimetype": "text/x-python",
   "name": "python",
   "nbconvert_exporter": "python",
   "pygments_lexer": "ipython3",
   "version": "3.7.0"
  }
 },
 "nbformat": 4,
 "nbformat_minor": 2
}
